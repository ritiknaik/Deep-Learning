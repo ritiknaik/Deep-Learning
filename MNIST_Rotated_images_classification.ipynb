{
  "nbformat": 4,
  "nbformat_minor": 0,
  "metadata": {
    "colab": {
      "name": "MNIST Rotated images classification.ipynb",
      "provenance": [],
      "collapsed_sections": []
    },
    "kernelspec": {
      "name": "python3",
      "display_name": "Python 3"
    },
    "accelerator": "GPU"
  },
  "cells": [
    {
      "cell_type": "markdown",
      "metadata": {
        "id": "WTOtc_S4pG_g"
      },
      "source": [
        "#MNIST Classification on Rotated Images"
      ]
    },
    {
      "cell_type": "markdown",
      "metadata": {
        "id": "CF9ZRZ1-pT2A"
      },
      "source": [
        "Importing Libraries"
      ]
    },
    {
      "cell_type": "code",
      "metadata": {
        "id": "XoEZdPtalfQE"
      },
      "source": [
        "import numpy as np\n",
        "import matplotlib.pyplot as plt\n",
        "import pandas as pd\n",
        "import keras\n",
        "%matplotlib inline"
      ],
      "execution_count": null,
      "outputs": []
    },
    {
      "cell_type": "code",
      "metadata": {
        "id": "oO5TBsHRtFTP"
      },
      "source": [
        "from numpy import expand_dims\n",
        "from keras.preprocessing.image import load_img\n",
        "from keras.preprocessing.image import img_to_array\n",
        "from keras.preprocessing.image import ImageDataGenerator\n",
        "from matplotlib import pyplot\n"
      ],
      "execution_count": null,
      "outputs": []
    },
    {
      "cell_type": "code",
      "metadata": {
        "id": "GQWCFYR0IYAC"
      },
      "source": [
        "from keras.layers import Conv2D, MaxPooling2D, Dropout, Dense, Flatten\n",
        "from tensorflow.keras.utils import to_categorical, normalize\n",
        "from keras import Sequential"
      ],
      "execution_count": null,
      "outputs": []
    },
    {
      "cell_type": "code",
      "metadata": {
        "id": "H0ymCDYJq0Qj"
      },
      "source": [
        "import tensorflow as tf\n",
        "\n",
        "(xtrain,ytrain),(xtest,ytest)=tf.keras.datasets.mnist.load_data()"
      ],
      "execution_count": null,
      "outputs": []
    },
    {
      "cell_type": "code",
      "metadata": {
        "colab": {
          "base_uri": "https://localhost:8080/"
        },
        "id": "3ewOIEjLrVYD",
        "outputId": "15f00518-2b68-4e64-ec32-05a7fcae8cbd"
      },
      "source": [
        "print(xtrain.shape)\n",
        "print(ytrain.shape)"
      ],
      "execution_count": null,
      "outputs": [
        {
          "output_type": "stream",
          "text": [
            "(60000, 28, 28)\n",
            "(60000,)\n"
          ],
          "name": "stdout"
        }
      ]
    },
    {
      "cell_type": "code",
      "metadata": {
        "id": "HrIb7Sv8rlIE"
      },
      "source": [
        "train=np.reshape(xtrain,(60000,28,28,1))\n",
        "ytrain=to_categorical(ytrain)"
      ],
      "execution_count": null,
      "outputs": []
    },
    {
      "cell_type": "code",
      "metadata": {
        "id": "awBwVmbgzoMi"
      },
      "source": [
        "train=train/255\n"
      ],
      "execution_count": null,
      "outputs": []
    },
    {
      "cell_type": "code",
      "metadata": {
        "id": "0TrVk_kfO2-M"
      },
      "source": [
        "from sklearn.model_selection import train_test_split\n",
        "\n",
        "val_split = 0.2\n",
        "X_train, X_val, y_train, y_val = train_test_split(train, ytrain, test_size=val_split, stratify=ytrain)\n",
        "\n",
        "X = np.concatenate((X_train, X_val))\n",
        "y = np.concatenate((y_train, y_val))\n"
      ],
      "execution_count": null,
      "outputs": []
    },
    {
      "cell_type": "code",
      "metadata": {
        "colab": {
          "base_uri": "https://localhost:8080/",
          "height": 282
        },
        "id": "2BJw7Mf2B9bn",
        "outputId": "0831927f-5c93-46fb-db96-2829ccfa31da"
      },
      "source": [
        "plt.subplot(111)\n",
        "plt.imshow(X[1001].squeeze(), cmap=\"gray\")"
      ],
      "execution_count": null,
      "outputs": [
        {
          "output_type": "execute_result",
          "data": {
            "text/plain": [
              "<matplotlib.image.AxesImage at 0x7f7ae9661c50>"
            ]
          },
          "metadata": {},
          "execution_count": 304
        },
        {
          "output_type": "display_data",
          "data": {
            "image/png": "[encoded data removed]",
            "text/plain": [
              "<Figure size 432x288 with 1 Axes>"
            ]
          },
          "metadata": {
            "needs_background": "light"
          }
        }
      ]
    },
    {
      "cell_type": "code",
      "metadata": {
        "colab": {
          "base_uri": "https://localhost:8080/"
        },
        "id": "ga1tkKy0PkXO",
        "outputId": "0e471127-aeea-4fb9-a89a-1caf14345d2f"
      },
      "source": [
        "print(X.shape)\n",
        "print(y.shape)"
      ],
      "execution_count": null,
      "outputs": [
        {
          "output_type": "stream",
          "text": [
            "(60000, 28, 28, 1)\n",
            "(60000, 10)\n"
          ],
          "name": "stdout"
        }
      ]
    },
    {
      "cell_type": "markdown",
      "metadata": {
        "id": "ZaYzFxTxpjZe"
      },
      "source": [
        "Creating Keras Model CNN"
      ]
    },
    {
      "cell_type": "code",
      "metadata": {
        "colab": {
          "base_uri": "https://localhost:8080/"
        },
        "id": "b8dwPVtCKPeO",
        "outputId": "032eaf0f-bd5c-4f81-a75b-e25f816b7c82"
      },
      "source": [
        "\n",
        "model = Sequential()\n",
        "model.add(Conv2D(filters=32, kernel_size=3, strides=(1,1), activation='relu', input_shape=(28,28,1)))\n",
        "model.add(Conv2D(64, 3, activation='relu'))\n",
        "model.add(Dropout(0.15))\n",
        "model.add(Conv2D(64, 3, activation='relu'))\n",
        "model.add(MaxPooling2D(pool_size=(2,2)))\n",
        "model.add(Conv2D(128, 3, activation='relu'))\n",
        "model.add(MaxPooling2D(2,2))\n",
        "model.add(Conv2D(128, 3, activation='relu'))\n",
        "model.add(MaxPooling2D(2,2))\n",
        "\n",
        "model.add(Flatten())\n",
        "model.add(Dense(256, activation='relu'))\n",
        "model.add(Dropout(0.4))\n",
        "model.add(Dense(10, activation='softmax'))\n",
        "model.summary()"
      ],
      "execution_count": null,
      "outputs": [
        {
          "output_type": "stream",
          "text": [
            "Model: \"sequential_6\"\n",
            "_________________________________________________________________\n",
            "Layer (type)                 Output Shape              Param #   \n",
            "=================================================================\n",
            "conv2d_26 (Conv2D)           (None, 26, 26, 32)        320       \n",
            "_________________________________________________________________\n",
            "conv2d_27 (Conv2D)           (None, 24, 24, 64)        18496     \n",
            "_________________________________________________________________\n",
            "dropout_12 (Dropout)         (None, 24, 24, 64)        0         \n",
            "_________________________________________________________________\n",
            "conv2d_28 (Conv2D)           (None, 22, 22, 64)        36928     \n",
            "_________________________________________________________________\n",
            "max_pooling2d_14 (MaxPooling (None, 11, 11, 64)        0         \n",
            "_________________________________________________________________\n",
            "conv2d_29 (Conv2D)           (None, 9, 9, 128)         73856     \n",
            "_________________________________________________________________\n",
            "max_pooling2d_15 (MaxPooling (None, 4, 4, 128)         0         \n",
            "_________________________________________________________________\n",
            "conv2d_30 (Conv2D)           (None, 2, 2, 128)         147584    \n",
            "_________________________________________________________________\n",
            "max_pooling2d_16 (MaxPooling (None, 1, 1, 128)         0         \n",
            "_________________________________________________________________\n",
            "flatten_6 (Flatten)          (None, 128)               0         \n",
            "_________________________________________________________________\n",
            "dense_12 (Dense)             (None, 256)               33024     \n",
            "_________________________________________________________________\n",
            "dropout_13 (Dropout)         (None, 256)               0         \n",
            "_________________________________________________________________\n",
            "dense_13 (Dense)             (None, 10)                2570      \n",
            "=================================================================\n",
            "Total params: 312,778\n",
            "Trainable params: 312,778\n",
            "Non-trainable params: 0\n",
            "_________________________________________________________________\n"
          ],
          "name": "stdout"
        }
      ]
    },
    {
      "cell_type": "code",
      "metadata": {
        "id": "Q1dMq9OirY4l"
      },
      "source": [
        "model.compile(optimizer='adam', loss='categorical_crossentropy',metrics=['accuracy'])"
      ],
      "execution_count": null,
      "outputs": []
    },
    {
      "cell_type": "code",
      "metadata": {
        "id": "qeVgD4G82bV7"
      },
      "source": [
        ""
      ],
      "execution_count": null,
      "outputs": []
    },
    {
      "cell_type": "code",
      "metadata": {
        "colab": {
          "base_uri": "https://localhost:8080/"
        },
        "id": "dvd68uvGMurK",
        "outputId": "3178d4a4-cf01-4683-d08b-4957d9daeebb"
      },
      "source": [
        "datagen = ImageDataGenerator(rotation_range=360)\n",
        "\n",
        "datagen.fit(X)\n",
        "\n",
        "newhist=model.fit(datagen.flow(X, y, batch_size=32,shuffle=True,\n",
        "         subset=None),\n",
        "         validation_data=datagen.flow(X, y,shuffle=True,\n",
        "         batch_size=32, subset=None),\n",
        "         steps_per_epoch=len(X) / 32, epochs=10,verbose=1)"
      ],
      "execution_count": null,
      "outputs": [
        {
          "output_type": "stream",
          "text": [
            "Epoch 1/10\n",
            "1875/1875 [==============================] - 32s 17ms/step - loss: 0.5277 - accuracy: 0.8253 - val_loss: 0.2193 - val_accuracy: 0.9309\n",
            "Epoch 2/10\n",
            "1875/1875 [==============================] - 31s 17ms/step - loss: 0.2128 - accuracy: 0.9356 - val_loss: 0.1793 - val_accuracy: 0.9438\n",
            "Epoch 3/10\n",
            "1875/1875 [==============================] - 31s 17ms/step - loss: 0.1748 - accuracy: 0.9472 - val_loss: 0.1498 - val_accuracy: 0.9536\n",
            "Epoch 4/10\n",
            "1875/1875 [==============================] - 31s 17ms/step - loss: 0.1585 - accuracy: 0.9529 - val_loss: 0.1248 - val_accuracy: 0.9618\n",
            "Epoch 5/10\n",
            "1875/1875 [==============================] - 31s 17ms/step - loss: 0.1451 - accuracy: 0.9561 - val_loss: 0.1220 - val_accuracy: 0.9635\n",
            "Epoch 6/10\n",
            "1875/1875 [==============================] - 31s 17ms/step - loss: 0.1346 - accuracy: 0.9596 - val_loss: 0.1152 - val_accuracy: 0.9652\n",
            "Epoch 7/10\n",
            "1875/1875 [==============================] - 31s 16ms/step - loss: 0.1275 - accuracy: 0.9620 - val_loss: 0.1177 - val_accuracy: 0.9639\n",
            "Epoch 8/10\n",
            "1875/1875 [==============================] - 31s 16ms/step - loss: 0.1227 - accuracy: 0.9628 - val_loss: 0.0996 - val_accuracy: 0.9689\n",
            "Epoch 9/10\n",
            "1875/1875 [==============================] - 30s 16ms/step - loss: 0.1158 - accuracy: 0.9655 - val_loss: 0.0965 - val_accuracy: 0.9704\n",
            "Epoch 10/10\n",
            "1875/1875 [==============================] - 30s 16ms/step - loss: 0.1127 - accuracy: 0.9656 - val_loss: 0.1087 - val_accuracy: 0.9668\n"
          ],
          "name": "stdout"
        }
      ]
    },
    {
      "cell_type": "code",
      "metadata": {
        "id": "kp1048oNslTP"
      },
      "source": [
        "# history = model.fit(train_reshaped, y, batch_size=64, epochs=5, verbose=1, validation_split=0.2)"
      ],
      "execution_count": null,
      "outputs": []
    },
    {
      "cell_type": "code",
      "metadata": {
        "colab": {
          "base_uri": "https://localhost:8080/",
          "height": 295
        },
        "id": "MuaU4IXvNjRo",
        "outputId": "a4547f05-ad81-4fa9-8d13-63c7b508c0e4"
      },
      "source": [
        "plt.plot(newhist.history['loss'])\n",
        "plt.plot(newhist.history['val_loss'])\n",
        "plt.title('model loss')\n",
        "plt.ylabel('loss')\n",
        "plt.xlabel('epoch')\n",
        "plt.legend(['train', 'test'], loc='upper left')\n",
        "plt.show()"
      ],
      "execution_count": null,
      "outputs": [
        {
          "output_type": "display_data",
          "data": {
            "image/png": "[encoded data removed]",
            "text/plain": [
              "<Figure size 432x288 with 1 Axes>"
            ]
          },
          "metadata": {
            "needs_background": "light"
          }
        }
      ]
    },
    {
      "cell_type": "code",
      "metadata": {
        "id": "IMmbhAPzhIju"
      },
      "source": [
        "data=X[2004]"
      ],
      "execution_count": null,
      "outputs": []
    },
    {
      "cell_type": "code",
      "metadata": {
        "colab": {
          "base_uri": "https://localhost:8080/",
          "height": 268
        },
        "id": "rzzNXBkZhfuf",
        "outputId": "228e4d7c-2a5c-4999-90e0-097b434ea556"
      },
      "source": [
        "samples = expand_dims(data, 0)\n",
        "datagen = ImageDataGenerator(rotation_range=360)\n",
        "\n",
        "it = datagen.flow(samples, batch_size=1)\n",
        "images=[]\n",
        "for i in range(9):\n",
        "\t\n",
        "\tpyplot.subplot(330 + 1 + i)\n",
        "\t\n",
        "\tbatch = it.next()\n",
        "\t\n",
        "\timage = batch[0]\n",
        "\timages.append(image)\n",
        "\n",
        "\tpyplot.imshow(image.squeeze(),cmap=\"gray\")\n",
        "\n",
        "pyplot.show()"
      ],
      "execution_count": null,
      "outputs": [
        {
          "output_type": "display_data",
          "data": {
            "image/png": "[encoded data removed]",
            "text/plain": [
              "<Figure size 432x288 with 9 Axes>"
            ]
          },
          "metadata": {
            "needs_background": "light"
          }
        }
      ]
    },
    {
      "cell_type": "code",
      "metadata": {
        "id": "d_6maxVXvNz1"
      },
      "source": [
        "images=np.array(images)"
      ],
      "execution_count": null,
      "outputs": []
    },
    {
      "cell_type": "code",
      "metadata": {
        "id": "IUarW0ypTMkx"
      },
      "source": [
        "results = model.predict(images)\n",
        "results = np.argmax(results,axis = 1)\n",
        "\n",
        "results = pd.Series(results,name=\"Label\")"
      ],
      "execution_count": null,
      "outputs": []
    },
    {
      "cell_type": "code",
      "metadata": {
        "colab": {
          "base_uri": "https://localhost:8080/"
        },
        "id": "F0fAaLDATdg8",
        "outputId": "e794406c-b943-4455-935e-0530249d6902"
      },
      "source": [
        "results"
      ],
      "execution_count": null,
      "outputs": [
        {
          "output_type": "execute_result",
          "data": {
            "text/plain": [
              "0    4\n",
              "1    4\n",
              "2    4\n",
              "3    4\n",
              "4    4\n",
              "5    4\n",
              "6    4\n",
              "7    4\n",
              "8    4\n",
              "Name: Label, dtype: int64"
            ]
          },
          "metadata": {},
          "execution_count": 315
        }
      ]
    },
    {
      "cell_type": "code",
      "metadata": {
        "colab": {
          "base_uri": "https://localhost:8080/",
          "height": 268
        },
        "id": "3o8J4p92Uz4p",
        "outputId": "26b1042b-b916-4739-b7dc-07c2723fc9ad"
      },
      "source": [
        "data1=X[98]\n",
        "samples = expand_dims(data1, 0)\n",
        "datagen = ImageDataGenerator(rotation_range=360)\n",
        "\n",
        "it = datagen.flow(samples, batch_size=1)\n",
        "images=[]\n",
        "for i in range(9):\n",
        "\t\n",
        "\tpyplot.subplot(330 + 1 + i)\n",
        "\t\n",
        "\tbatch = it.next()\n",
        "\t\n",
        "\timage = batch[0]\n",
        "\timages.append(image)\n",
        "\n",
        "\tpyplot.imshow(image.squeeze(),cmap=\"gray\")\n",
        "\n",
        "pyplot.show()"
      ],
      "execution_count": null,
      "outputs": [
        {
          "output_type": "display_data",
          "data": {
            "image/png": "[encoded data removed]",
            "text/plain": [
              "<Figure size 432x288 with 9 Axes>"
            ]
          },
          "metadata": {
            "needs_background": "light"
          }
        }
      ]
    },
    {
      "cell_type": "code",
      "metadata": {
        "colab": {
          "base_uri": "https://localhost:8080/"
        },
        "id": "k_yLEQ6QAa4L",
        "outputId": "8855e18e-6534-474a-d3c4-af7d8df02adf"
      },
      "source": [
        "images=np.array(images)\n",
        "\n",
        "results = model.predict(images)\n",
        "results = np.argmax(results,axis = 1)\n",
        "\n",
        "results = pd.Series(results,name=\"Label\")\n",
        "results"
      ],
      "execution_count": null,
      "outputs": [
        {
          "output_type": "execute_result",
          "data": {
            "text/plain": [
              "0    0\n",
              "1    0\n",
              "2    0\n",
              "3    0\n",
              "4    0\n",
              "5    0\n",
              "6    0\n",
              "7    0\n",
              "8    0\n",
              "Name: Label, dtype: int64"
            ]
          },
          "metadata": {},
          "execution_count": 317
        }
      ]
    },
    {
      "cell_type": "code",
      "metadata": {
        "id": "Hq4QtiISAoNG"
      },
      "source": [
        ""
      ],
      "execution_count": null,
      "outputs": []
    }
  ]
}