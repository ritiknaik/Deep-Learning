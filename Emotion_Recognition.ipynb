{
  "cells": [
    {
      "cell_type": "markdown",
      "source": [
        "# Facial Emotion Recognition"
      ],
      "metadata": {
        "id": "TuNgTWE31jQ-"
      }
    },
    {
      "cell_type": "code",
      "execution_count": null,
      "metadata": {
        "colab": {
          "base_uri": "https://localhost:8080/"
        },
        "id": "OW2-oUZt5oim",
        "outputId": "108a36aa-80ff-4f01-8a32-e275f9ce0f27"
      },
      "outputs": [
        {
          "output_type": "stream",
          "name": "stdout",
          "text": [
            "Mounted at /content/gdrive\n"
          ]
        }
      ],
      "source": [
        "from google.colab import drive\n",
        "drive.mount(\"/content/gdrive\")"
      ]
    },
    {
      "cell_type": "markdown",
      "source": [
        "### Unzipping the dataset"
      ],
      "metadata": {
        "id": "9odXEkPs2OOo"
      }
    },
    {
      "cell_type": "code",
      "execution_count": null,
      "metadata": {
        "id": "-_YakfDa5mP2"
      },
      "outputs": [],
      "source": [
        "import os\n",
        "import zipfile\n",
        "path_to_zip_file='/content/gdrive/MyDrive/emotiondataset.zip'\n",
        "directory_to_extract_to='/content/gdrive/MyDrive/Emotions/'\n",
        "with zipfile.ZipFile(path_to_zip_file, 'r') as zip_ref:\n",
        "    zip_ref.extractall(directory_to_extract_to)\n"
      ]
    },
    {
      "cell_type": "markdown",
      "source": [
        "### Importing necessary libraries"
      ],
      "metadata": {
        "id": "P8IODOkl2Tlc"
      }
    },
    {
      "cell_type": "code",
      "execution_count": null,
      "metadata": {
        "id": "Xcof2jW35mP6"
      },
      "outputs": [],
      "source": [
        "import math\n",
        "import numpy as np\n",
        "import pandas as pd\n",
        "import seaborn as sns\n",
        "from matplotlib import pyplot\n",
        "\n",
        "import tensorflow as tf\n",
        "from tensorflow.keras import optimizers\n",
        "from tensorflow.keras.models import Sequential, Model, load_model\n",
        "from tensorflow.keras.layers import Flatten, Dense, Conv2D, MaxPooling2D, Input, MaxPool2D, AveragePooling2D, ZeroPadding2D, Convolution2D\n",
        "from tensorflow.keras.layers import Dropout, BatchNormalization, LeakyReLU, Activation, concatenate\n",
        "from tensorflow.keras.callbacks import ModelCheckpoint, EarlyStopping, ReduceLROnPlateau, Callback\n",
        "from tensorflow.keras.preprocessing.image import ImageDataGenerator, img_to_array, load_img, save_img\n",
        "from tensorflow.keras.activations import relu, sigmoid, softmax\n",
        "\n",
        "from tensorflow.keras.utils import to_categorical\n",
        "from PIL import Image"
      ]
    },
    {
      "cell_type": "markdown",
      "source": [
        "### Preprocessing the dataset"
      ],
      "metadata": {
        "id": "i08lXq2D2ZPz"
      }
    },
    {
      "cell_type": "code",
      "execution_count": null,
      "metadata": {
        "id": "AslRzBHq5mP8"
      },
      "outputs": [],
      "source": [
        "# creating dictionaries to map the labels with class values\n",
        "\n",
        "emotion_label_to_text = {0:'happy', 1:'sad', 2: 'surprise', 3: 'fear', 4: 'disgust', 5: 'anger'}\n",
        "emotion_text_to_label = {'happy':0, 'sad':1,'surprise':2, 'fear':3,  'disgust':4, 'anger':5}"
      ]
    },
    {
      "cell_type": "code",
      "execution_count": null,
      "metadata": {
        "id": "cMVoUi-nADsL"
      },
      "outputs": [],
      "source": [
        "# specifying path of source and destination folders\n",
        "\n",
        "train_src = \"/content/gdrive/MyDrive/Emotions/train_class/\"\n",
        "train_des = \"/content/gdrive/MyDrive/Emotions/train_dest/\"\n",
        "val_src = \"/content/gdrive/MyDrive/Emotions/val_class/\"\n",
        "val_des = \"/content/gdrive/MyDrive/Emotions/val_dest/\"\n",
        "\n",
        "# making destination folders\n",
        "os.mkdir(train_des)\n",
        "os.mkdir(val_des)\n",
        "folders = [\"class001\",\"class002\",\"class003\",\"class004\",\"class005\",\"class006\",\"class007\",\"class008\"]"
      ]
    },
    {
      "cell_type": "code",
      "execution_count": null,
      "metadata": {
        "id": "LTw2OC-xCWP-"
      },
      "outputs": [],
      "source": [
        "# taking from source, resizing and storing in the destination folder training data\n",
        "\n",
        "checks = []\n",
        "checksn = []\n",
        "c = 1\n",
        "for folder in folders:\n",
        "  directory = train_src + folder + '/'\n",
        "  new_dir = train_des + emotion_label_to_text[c]\n",
        "  os.mkdir(new_dir)\n",
        "  new_dir = new_dir + '/'\n",
        "  c+=1\n",
        "  i = 0\n",
        "  for f in os.listdir(directory):\n",
        "    image = os.path.join(directory, f)\n",
        "    des_image = os.path.join(new_dir, f)\n",
        "    img_ = img_to_array(load_img(image, target_size=(224,224)))\n",
        "    save_img(des_image, img_)\n",
        "    if(i == 0):\n",
        "      img = Image.open(image)\n",
        "      # pyplot.imshow(img)\n",
        "      i = 1\n",
        "      checks.append(image)\n",
        "      checksn.append(des_image)"
      ]
    },
    {
      "cell_type": "code",
      "execution_count": null,
      "metadata": {
        "id": "apia3wPpOntM"
      },
      "outputs": [],
      "source": [
        "# taking from source, resizing and storing in the destination folder validation data\n",
        "\n",
        "checkv = []\n",
        "checkvn = []\n",
        "c = 1\n",
        "for folder in folders:\n",
        "  directory = val_src + folder + '/'\n",
        "  new_dir = val_des + emotion_label_to_text[c]\n",
        "  os.mkdir(new_dir)\n",
        "  new_dir = new_dir + '/'\n",
        "  c+=1\n",
        "  i = 0\n",
        "  for f in os.listdir(directory):\n",
        "    image = os.path.join(directory, f)\n",
        "    des_image = os.path.join(new_dir, f)\n",
        "    img_ = img_to_array(load_img(image, target_size=(224,224)))\n",
        "    save_img(des_image, img_)\n",
        "    if(i == 0):\n",
        "      img = Image.open(image)\n",
        "      i = 1\n",
        "      checks.append(image)\n",
        "      checksn.append(des_image)"
      ]
    },
    {
      "cell_type": "markdown",
      "source": [
        "### Making usable dataset"
      ],
      "metadata": {
        "id": "RKaTE5Hp4Sw9"
      }
    },
    {
      "cell_type": "code",
      "source": [
        "# function to create tensor dataset from training images \n",
        "# Here I have used 3000 samples per class instead of entire dataset due to memory constraints \n",
        "\n",
        "def create_dataset_tf(img_folder):\n",
        "    class_name=[]\n",
        "    tf_img_data_array=[]   \n",
        "\n",
        "    fig = pyplot.figure()\n",
        "    rows = 4\n",
        "    columns = 2\n",
        "    \n",
        "    for dir1 in os.listdir(img_folder):\n",
        "        if (dir1 == 'neutral' or dir1 = 'contempt'):\n",
        "            continue\n",
        "        c = 0\n",
        "        i = 1\n",
        "        for file in os.listdir(os.path.join(img_folder, dir1)):\n",
        "            image= os.path.join(img_folder,dir1, file)\n",
        "            image = tf.io.read_file(image)\n",
        "            image = tf.io.decode_jpeg(image, channels=1)\n",
        "            image = tf.cast(tf.cast(image,tf.float32) / 255., tf.float16)\n",
        "            image = np.array(image)\n",
        "            tf_img_data_array.append(image)\n",
        "            class_name.append(emotion_text_to_label[dir1])              \n",
        "            c+=1\n",
        "            if(c == 3000):\n",
        "              break     \n",
        "    return tf.stack(tf_img_data_array, axis=0),class_name"
      ],
      "metadata": {
        "id": "zRb5ZWPVBQpR"
      },
      "execution_count": null,
      "outputs": []
    },
    {
      "cell_type": "code",
      "source": [
        "# function to create tensor dataset from validation images \n",
        "\n",
        "def create_valdataset_tf(img_folder):\n",
        "    class_name=[]\n",
        "    tf_img_data_array=[]   \n",
        "    \n",
        "    for dir1 in os.listdir(img_folder):\n",
        "        if (dir1 == 'neutral' or dir1 = 'contempt'):\n",
        "            continue\n",
        "        c = 0\n",
        "        i = 1\n",
        "        for file in os.listdir(os.path.join(img_folder, dir1)):\n",
        "            image= os.path.join(img_folder,dir1, file)\n",
        "            image = tf.io.read_file(image)\n",
        "            image = tf.io.decode_jpeg(image, channels=1)\n",
        "            image = tf.cast(tf.cast(image,tf.float32) / 255., tf.float16)\n",
        "            image = np.array(image)\n",
        "            tf_img_data_array.append(image)\n",
        "            class_name.append(emotion_text_to_label[dir1])              \n",
        "        \n",
        "    return tf.stack(tf_img_data_array, axis=0),class_name"
      ],
      "metadata": {
        "id": "NMMSbTQ88pNJ"
      },
      "execution_count": null,
      "outputs": []
    },
    {
      "cell_type": "code",
      "source": [
        "img_data, classname = create_dataset_tf(train_des)"
      ],
      "metadata": {
        "id": "foNW1IqwBoq9"
      },
      "execution_count": null,
      "outputs": []
    },
    {
      "cell_type": "code",
      "source": [
        "val_data, valclass = create_valdataset_tf(val_des)"
      ],
      "metadata": {
        "id": "j4GOEVq-Vbi6"
      },
      "execution_count": null,
      "outputs": []
    },
    {
      "cell_type": "code",
      "source": [
        "# categorizing training labels\n",
        "\n",
        "y_label = to_categorical(classname)"
      ],
      "metadata": {
        "id": "_1o-gogHLRnt"
      },
      "execution_count": null,
      "outputs": []
    },
    {
      "cell_type": "code",
      "source": [
        "# categorizing validation labels\n",
        "\n",
        "val_y = to_categorical(valclass)"
      ],
      "metadata": {
        "id": "bkKXY5waVwjy"
      },
      "execution_count": null,
      "outputs": []
    },
    {
      "cell_type": "markdown",
      "source": [
        "### Converting to numpy array and saving for reusability"
      ],
      "metadata": {
        "id": "ysPCfV8s5lW5"
      }
    },
    {
      "cell_type": "code",
      "source": [
        "out_train = np.asarray(img_data)"
      ],
      "metadata": {
        "id": "YRs-dzWqrnYP"
      },
      "execution_count": null,
      "outputs": []
    },
    {
      "cell_type": "code",
      "source": [
        "out_val = np.asarray(val_data)\n",
        "out_val_label = np.asarray(val_y)"
      ],
      "metadata": {
        "id": "2vpMJRpS9UOS"
      },
      "execution_count": null,
      "outputs": []
    },
    {
      "cell_type": "code",
      "source": [
        "out_train_label = np.asarray(y_label)\n"
      ],
      "metadata": {
        "id": "aTRQFnE2stlW"
      },
      "execution_count": null,
      "outputs": []
    },
    {
      "cell_type": "code",
      "source": [
        "np.save('/content/gdrive/MyDrive/val224_1k.npy',out_val)\n",
        "np.save('/content/gdrive/MyDrive/val224_1k_label.npy',out_val_label)\n"
      ],
      "metadata": {
        "id": "GVH5PNR39o64"
      },
      "execution_count": null,
      "outputs": []
    },
    {
      "cell_type": "code",
      "source": [
        "np.save('/content/gdrive/MyDrive/train224_16k.npy',out_train)\n",
        "\n",
        "np.save('/content/gdrive/MyDrive/train224_16k_label.npy',out_train_label)"
      ],
      "metadata": {
        "id": "e-qX7tN4sQ-M"
      },
      "execution_count": null,
      "outputs": []
    },
    {
      "cell_type": "markdown",
      "source": [
        "### Leading the dataset"
      ],
      "metadata": {
        "id": "BpMlYsoP6DG1"
      }
    },
    {
      "cell_type": "code",
      "source": [
        "x_val = np.load('/content/gdrive/MyDrive/Copy of 6classval224_full.npy')\n",
        "y_val = np.load('/content/gdrive/MyDrive/Copy of 6classval224_full_label.npy')"
      ],
      "metadata": {
        "id": "b3fWKBJJKhvs"
      },
      "execution_count": null,
      "outputs": []
    },
    {
      "cell_type": "code",
      "source": [
        "x_train = np.load('/content/gdrive/MyDrive/Copy of 6classtrain224_18k.npy')\n",
        "y_train = np.load('/content/gdrive/MyDrive/Copy of 6classtrain224_18k_label.npy')\n",
        "\n",
        "print(x_train.shape)\n",
        "print(y_train.shape)\n",
        "print(x_val.shape)\n",
        "print(y_val.shape)"
      ],
      "metadata": {
        "colab": {
          "base_uri": "https://localhost:8080/"
        },
        "id": "RDGoed9xtR5F",
        "outputId": "973bf474-8c1f-46f5-f178-7c9e640f466f"
      },
      "execution_count": null,
      "outputs": [
        {
          "output_type": "stream",
          "name": "stdout",
          "text": [
            "(18000, 224, 224, 1)\n",
            "(18000, 6)\n",
            "(3000, 224, 224, 1)\n",
            "(3000, 6)\n"
          ]
        }
      ]
    },
    {
      "cell_type": "markdown",
      "source": [
        "## Training"
      ],
      "metadata": {
        "id": "gio9kaYB6Gk3"
      }
    },
    {
      "cell_type": "code",
      "execution_count": null,
      "metadata": {
        "id": "AYy3qv3kQu3d"
      },
      "outputs": [],
      "source": [
        "#callbacks\n",
        "check_pointer = ModelCheckpoint(filepath='/content/gdrive/MyDrive/check6cmobilenew.h5',save_best_only=True)\n",
        "\n",
        "early_stop = EarlyStopping(monitor='val_loss',patience=20,min_delta=0,restore_best_weights=True)\n",
        "\n",
        "reduce_lr = ReduceLROnPlateau(monitor='val_loss',factor=0.1)"
      ]
    },
    {
      "cell_type": "markdown",
      "source": [
        "### Own Custom CNN"
      ],
      "metadata": {
        "id": "dD4RZBep6eo0"
      }
    },
    {
      "cell_type": "code",
      "source": [
        "model = Sequential()\n",
        "model.add(Conv2D(32, kernel_size=(3,3), activation='relu', input_shape=(224,224,1)))\n",
        "model.add(MaxPooling2D(pool_size=(2,2)))\n",
        "model.add(Conv2D(32, kernel_size=(3,3), activation='relu'))\n",
        "model.add(MaxPooling2D(pool_size=(2,2)))\n",
        "model.add(Flatten())\n",
        "model.add(Dense(1024, activation='relu'))\n",
        "model.add(Dense(512, activation='relu'))\n",
        "model.add(Dropout(0.2))\n",
        "model.add(Dense(8, activation='softmax'))"
      ],
      "metadata": {
        "id": "hKK2_LAc6PsI"
      },
      "execution_count": null,
      "outputs": []
    },
    {
      "cell_type": "code",
      "execution_count": null,
      "metadata": {
        "id": "x6iy3D9X5mP_"
      },
      "outputs": [],
      "source": [
        "# with tf.device('/device:GPU:0'):\n",
        "model.compile(optimizer='adagrad',\n",
        "              loss='categorical_crossentropy',\n",
        "              metrics=['accuracy'])"
      ]
    },
    {
      "cell_type": "code",
      "source": [
        "model.summary()"
      ],
      "metadata": {
        "colab": {
          "base_uri": "https://localhost:8080/"
        },
        "id": "n_EZBB9U1iC9",
        "outputId": "7570de8d-6667-4e59-82de-32309c96c660"
      },
      "execution_count": null,
      "outputs": [
        {
          "output_type": "stream",
          "name": "stdout",
          "text": [
            "Model: \"sequential_1\"\n",
            "_________________________________________________________________\n",
            " Layer (type)                Output Shape              Param #   \n",
            "=================================================================\n",
            " conv2d_2 (Conv2D)           (None, 222, 222, 32)      320       \n",
            "                                                                 \n",
            " max_pooling2d_2 (MaxPooling  (None, 111, 111, 32)     0         \n",
            " 2D)                                                             \n",
            "                                                                 \n",
            " conv2d_3 (Conv2D)           (None, 109, 109, 32)      9248      \n",
            "                                                                 \n",
            " max_pooling2d_3 (MaxPooling  (None, 54, 54, 32)       0         \n",
            " 2D)                                                             \n",
            "                                                                 \n",
            " flatten_1 (Flatten)         (None, 93312)             0         \n",
            "                                                                 \n",
            " dense_6 (Dense)             (None, 1024)              95552512  \n",
            "                                                                 \n",
            " dense_7 (Dense)             (None, 512)               524800    \n",
            "                                                                 \n",
            " dropout_1 (Dropout)         (None, 512)               0         \n",
            "                                                                 \n",
            " dense_8 (Dense)             (None, 8)                 4104      \n",
            "                                                                 \n",
            "=================================================================\n",
            "Total params: 96,090,984\n",
            "Trainable params: 96,090,984\n",
            "Non-trainable params: 0\n",
            "_________________________________________________________________\n"
          ]
        }
      ]
    },
    {
      "cell_type": "code",
      "source": [
        "history = model.fit(x=x_train, y=y_train,validation_data=(x_val,y_val), epochs=200, callbacks=[early_stop, check_pointer, reduce_lr])"
      ],
      "metadata": {
        "id": "tVtVZDubIJqA"
      },
      "execution_count": null,
      "outputs": []
    },
    {
      "cell_type": "markdown",
      "source": [
        "### Final Validation Accuracy on Own Custom CNN is 44.67%"
      ],
      "metadata": {
        "id": "fwkA69GT6taE"
      }
    },
    {
      "cell_type": "markdown",
      "source": [
        "### ResNet50"
      ],
      "metadata": {
        "id": "JxLY6aNV6NM-"
      }
    },
    {
      "cell_type": "code",
      "source": [
        "from tensorflow.keras.applications import ResNet50\n",
        "\n",
        "model_res50 = ResNet50()\n",
        "\n",
        "z = model_res50.layers[-1].output\n",
        "output = Dense(6,activation = 'softmax')(z)\n",
        "model_res50 = Model(inputs = model_res50.input, outputs = output)\n",
        "model_res50.summary()"
      ],
      "metadata": {
        "colab": {
          "base_uri": "https://localhost:8080/"
        },
        "id": "qaVBBdWOGbjJ",
        "outputId": "380f25f3-6f73-4fd6-d655-a545ddddf6a1"
      },
      "execution_count": null,
      "outputs": [
        {
          "output_type": "stream",
          "name": "stdout",
          "text": [
            "Model: \"model\"\n",
            "__________________________________________________________________________________________________\n",
            " Layer (type)                   Output Shape         Param #     Connected to                     \n",
            "==================================================================================================\n",
            " input_1 (InputLayer)           [(None, 224, 224, 3  0           []                               \n",
            "                                )]                                                                \n",
            "                                                                                                  \n",
            " conv1_pad (ZeroPadding2D)      (None, 230, 230, 3)  0           ['input_1[0][0]']                \n",
            "                                                                                                  \n",
            " conv1_conv (Conv2D)            (None, 112, 112, 64  9472        ['conv1_pad[0][0]']              \n",
            "                                )                                                                 \n",
            "                                                                                                  \n",
            " conv1_bn (BatchNormalization)  (None, 112, 112, 64  256         ['conv1_conv[0][0]']             \n",
            "                                )                                                                 \n",
            "                                                                                                  \n",
            " conv1_relu (Activation)        (None, 112, 112, 64  0           ['conv1_bn[0][0]']               \n",
            "                                )                                                                 \n",
            "                                                                                                  \n",
            " pool1_pad (ZeroPadding2D)      (None, 114, 114, 64  0           ['conv1_relu[0][0]']             \n",
            "                                )                                                                 \n",
            "                                                                                                  \n",
            " pool1_pool (MaxPooling2D)      (None, 56, 56, 64)   0           ['pool1_pad[0][0]']              \n",
            "                                                                                                  \n",
            " conv2_block1_1_conv (Conv2D)   (None, 56, 56, 64)   4160        ['pool1_pool[0][0]']             \n",
            "                                                                                                  \n",
            " conv2_block1_1_bn (BatchNormal  (None, 56, 56, 64)  256         ['conv2_block1_1_conv[0][0]']    \n",
            " ization)                                                                                         \n",
            "                                                                                                  \n",
            " conv2_block1_1_relu (Activatio  (None, 56, 56, 64)  0           ['conv2_block1_1_bn[0][0]']      \n",
            " n)                                                                                               \n",
            "                                                                                                  \n",
            " conv2_block1_2_conv (Conv2D)   (None, 56, 56, 64)   36928       ['conv2_block1_1_relu[0][0]']    \n",
            "                                                                                                  \n",
            " conv2_block1_2_bn (BatchNormal  (None, 56, 56, 64)  256         ['conv2_block1_2_conv[0][0]']    \n",
            " ization)                                                                                         \n",
            "                                                                                                  \n",
            " conv2_block1_2_relu (Activatio  (None, 56, 56, 64)  0           ['conv2_block1_2_bn[0][0]']      \n",
            " n)                                                                                               \n",
            "                                                                                                  \n",
            " conv2_block1_0_conv (Conv2D)   (None, 56, 56, 256)  16640       ['pool1_pool[0][0]']             \n",
            "                                                                                                  \n",
            " conv2_block1_3_conv (Conv2D)   (None, 56, 56, 256)  16640       ['conv2_block1_2_relu[0][0]']    \n",
            "                                                                                                  \n",
            " conv2_block1_0_bn (BatchNormal  (None, 56, 56, 256)  1024       ['conv2_block1_0_conv[0][0]']    \n",
            " ization)                                                                                         \n",
            "                                                                                                  \n",
            " conv2_block1_3_bn (BatchNormal  (None, 56, 56, 256)  1024       ['conv2_block1_3_conv[0][0]']    \n",
            " ization)                                                                                         \n",
            "                                                                                                  \n",
            " conv2_block1_add (Add)         (None, 56, 56, 256)  0           ['conv2_block1_0_bn[0][0]',      \n",
            "                                                                  'conv2_block1_3_bn[0][0]']      \n",
            "                                                                                                  \n",
            " conv2_block1_out (Activation)  (None, 56, 56, 256)  0           ['conv2_block1_add[0][0]']       \n",
            "                                                                                                  \n",
            " conv2_block2_1_conv (Conv2D)   (None, 56, 56, 64)   16448       ['conv2_block1_out[0][0]']       \n",
            "                                                                                                  \n",
            " conv2_block2_1_bn (BatchNormal  (None, 56, 56, 64)  256         ['conv2_block2_1_conv[0][0]']    \n",
            " ization)                                                                                         \n",
            "                                                                                                  \n",
            " conv2_block2_1_relu (Activatio  (None, 56, 56, 64)  0           ['conv2_block2_1_bn[0][0]']      \n",
            " n)                                                                                               \n",
            "                                                                                                  \n",
            " conv2_block2_2_conv (Conv2D)   (None, 56, 56, 64)   36928       ['conv2_block2_1_relu[0][0]']    \n",
            "                                                                                                  \n",
            " conv2_block2_2_bn (BatchNormal  (None, 56, 56, 64)  256         ['conv2_block2_2_conv[0][0]']    \n",
            " ization)                                                                                         \n",
            "                                                                                                  \n",
            " conv2_block2_2_relu (Activatio  (None, 56, 56, 64)  0           ['conv2_block2_2_bn[0][0]']      \n",
            " n)                                                                                               \n",
            "                                                                                                  \n",
            " conv2_block2_3_conv (Conv2D)   (None, 56, 56, 256)  16640       ['conv2_block2_2_relu[0][0]']    \n",
            "                                                                                                  \n",
            " conv2_block2_3_bn (BatchNormal  (None, 56, 56, 256)  1024       ['conv2_block2_3_conv[0][0]']    \n",
            " ization)                                                                                         \n",
            "                                                                                                  \n",
            " conv2_block2_add (Add)         (None, 56, 56, 256)  0           ['conv2_block1_out[0][0]',       \n",
            "                                                                  'conv2_block2_3_bn[0][0]']      \n",
            "                                                                                                  \n",
            " conv2_block2_out (Activation)  (None, 56, 56, 256)  0           ['conv2_block2_add[0][0]']       \n",
            "                                                                                                  \n",
            " conv2_block3_1_conv (Conv2D)   (None, 56, 56, 64)   16448       ['conv2_block2_out[0][0]']       \n",
            "                                                                                                  \n",
            " conv2_block3_1_bn (BatchNormal  (None, 56, 56, 64)  256         ['conv2_block3_1_conv[0][0]']    \n",
            " ization)                                                                                         \n",
            "                                                                                                  \n",
            " conv2_block3_1_relu (Activatio  (None, 56, 56, 64)  0           ['conv2_block3_1_bn[0][0]']      \n",
            " n)                                                                                               \n",
            "                                                                                                  \n",
            " conv2_block3_2_conv (Conv2D)   (None, 56, 56, 64)   36928       ['conv2_block3_1_relu[0][0]']    \n",
            "                                                                                                  \n",
            " conv2_block3_2_bn (BatchNormal  (None, 56, 56, 64)  256         ['conv2_block3_2_conv[0][0]']    \n",
            " ization)                                                                                         \n",
            "                                                                                                  \n",
            " conv2_block3_2_relu (Activatio  (None, 56, 56, 64)  0           ['conv2_block3_2_bn[0][0]']      \n",
            " n)                                                                                               \n",
            "                                                                                                  \n",
            " conv2_block3_3_conv (Conv2D)   (None, 56, 56, 256)  16640       ['conv2_block3_2_relu[0][0]']    \n",
            "                                                                                                  \n",
            " conv2_block3_3_bn (BatchNormal  (None, 56, 56, 256)  1024       ['conv2_block3_3_conv[0][0]']    \n",
            " ization)                                                                                         \n",
            "                                                                                                  \n",
            " conv2_block3_add (Add)         (None, 56, 56, 256)  0           ['conv2_block2_out[0][0]',       \n",
            "                                                                  'conv2_block3_3_bn[0][0]']      \n",
            "                                                                                                  \n",
            " conv2_block3_out (Activation)  (None, 56, 56, 256)  0           ['conv2_block3_add[0][0]']       \n",
            "                                                                                                  \n",
            " conv3_block1_1_conv (Conv2D)   (None, 28, 28, 128)  32896       ['conv2_block3_out[0][0]']       \n",
            "                                                                                                  \n",
            " conv3_block1_1_bn (BatchNormal  (None, 28, 28, 128)  512        ['conv3_block1_1_conv[0][0]']    \n",
            " ization)                                                                                         \n",
            "                                                                                                  \n",
            " conv3_block1_1_relu (Activatio  (None, 28, 28, 128)  0          ['conv3_block1_1_bn[0][0]']      \n",
            " n)                                                                                               \n",
            "                                                                                                  \n",
            " conv3_block1_2_conv (Conv2D)   (None, 28, 28, 128)  147584      ['conv3_block1_1_relu[0][0]']    \n",
            "                                                                                                  \n",
            " conv3_block1_2_bn (BatchNormal  (None, 28, 28, 128)  512        ['conv3_block1_2_conv[0][0]']    \n",
            " ization)                                                                                         \n",
            "                                                                                                  \n",
            " conv3_block1_2_relu (Activatio  (None, 28, 28, 128)  0          ['conv3_block1_2_bn[0][0]']      \n",
            " n)                                                                                               \n",
            "                                                                                                  \n",
            " conv3_block1_0_conv (Conv2D)   (None, 28, 28, 512)  131584      ['conv2_block3_out[0][0]']       \n",
            "                                                                                                  \n",
            " conv3_block1_3_conv (Conv2D)   (None, 28, 28, 512)  66048       ['conv3_block1_2_relu[0][0]']    \n",
            "                                                                                                  \n",
            " conv3_block1_0_bn (BatchNormal  (None, 28, 28, 512)  2048       ['conv3_block1_0_conv[0][0]']    \n",
            " ization)                                                                                         \n",
            "                                                                                                  \n",
            " conv3_block1_3_bn (BatchNormal  (None, 28, 28, 512)  2048       ['conv3_block1_3_conv[0][0]']    \n",
            " ization)                                                                                         \n",
            "                                                                                                  \n",
            " conv3_block1_add (Add)         (None, 28, 28, 512)  0           ['conv3_block1_0_bn[0][0]',      \n",
            "                                                                  'conv3_block1_3_bn[0][0]']      \n",
            "                                                                                                  \n",
            " conv3_block1_out (Activation)  (None, 28, 28, 512)  0           ['conv3_block1_add[0][0]']       \n",
            "                                                                                                  \n",
            " conv3_block2_1_conv (Conv2D)   (None, 28, 28, 128)  65664       ['conv3_block1_out[0][0]']       \n",
            "                                                                                                  \n",
            " conv3_block2_1_bn (BatchNormal  (None, 28, 28, 128)  512        ['conv3_block2_1_conv[0][0]']    \n",
            " ization)                                                                                         \n",
            "                                                                                                  \n",
            " conv3_block2_1_relu (Activatio  (None, 28, 28, 128)  0          ['conv3_block2_1_bn[0][0]']      \n",
            " n)                                                                                               \n",
            "                                                                                                  \n",
            " conv3_block2_2_conv (Conv2D)   (None, 28, 28, 128)  147584      ['conv3_block2_1_relu[0][0]']    \n",
            "                                                                                                  \n",
            " conv3_block2_2_bn (BatchNormal  (None, 28, 28, 128)  512        ['conv3_block2_2_conv[0][0]']    \n",
            " ization)                                                                                         \n",
            "                                                                                                  \n",
            " conv3_block2_2_relu (Activatio  (None, 28, 28, 128)  0          ['conv3_block2_2_bn[0][0]']      \n",
            " n)                                                                                               \n",
            "                                                                                                  \n",
            " conv3_block2_3_conv (Conv2D)   (None, 28, 28, 512)  66048       ['conv3_block2_2_relu[0][0]']    \n",
            "                                                                                                  \n",
            " conv3_block2_3_bn (BatchNormal  (None, 28, 28, 512)  2048       ['conv3_block2_3_conv[0][0]']    \n",
            " ization)                                                                                         \n",
            "                                                                                                  \n",
            " conv3_block2_add (Add)         (None, 28, 28, 512)  0           ['conv3_block1_out[0][0]',       \n",
            "                                                                  'conv3_block2_3_bn[0][0]']      \n",
            "                                                                                                  \n",
            " conv3_block2_out (Activation)  (None, 28, 28, 512)  0           ['conv3_block2_add[0][0]']       \n",
            "                                                                                                  \n",
            " conv3_block3_1_conv (Conv2D)   (None, 28, 28, 128)  65664       ['conv3_block2_out[0][0]']       \n",
            "                                                                                                  \n",
            " conv3_block3_1_bn (BatchNormal  (None, 28, 28, 128)  512        ['conv3_block3_1_conv[0][0]']    \n",
            " ization)                                                                                         \n",
            "                                                                                                  \n",
            " conv3_block3_1_relu (Activatio  (None, 28, 28, 128)  0          ['conv3_block3_1_bn[0][0]']      \n",
            " n)                                                                                               \n",
            "                                                                                                  \n",
            " conv3_block3_2_conv (Conv2D)   (None, 28, 28, 128)  147584      ['conv3_block3_1_relu[0][0]']    \n",
            "                                                                                                  \n",
            " conv3_block3_2_bn (BatchNormal  (None, 28, 28, 128)  512        ['conv3_block3_2_conv[0][0]']    \n",
            " ization)                                                                                         \n",
            "                                                                                                  \n",
            " conv3_block3_2_relu (Activatio  (None, 28, 28, 128)  0          ['conv3_block3_2_bn[0][0]']      \n",
            " n)                                                                                               \n",
            "                                                                                                  \n",
            " conv3_block3_3_conv (Conv2D)   (None, 28, 28, 512)  66048       ['conv3_block3_2_relu[0][0]']    \n",
            "                                                                                                  \n",
            " conv3_block3_3_bn (BatchNormal  (None, 28, 28, 512)  2048       ['conv3_block3_3_conv[0][0]']    \n",
            " ization)                                                                                         \n",
            "                                                                                                  \n",
            " conv3_block3_add (Add)         (None, 28, 28, 512)  0           ['conv3_block2_out[0][0]',       \n",
            "                                                                  'conv3_block3_3_bn[0][0]']      \n",
            "                                                                                                  \n",
            " conv3_block3_out (Activation)  (None, 28, 28, 512)  0           ['conv3_block3_add[0][0]']       \n",
            "                                                                                                  \n",
            " conv3_block4_1_conv (Conv2D)   (None, 28, 28, 128)  65664       ['conv3_block3_out[0][0]']       \n",
            "                                                                                                  \n",
            " conv3_block4_1_bn (BatchNormal  (None, 28, 28, 128)  512        ['conv3_block4_1_conv[0][0]']    \n",
            " ization)                                                                                         \n",
            "                                                                                                  \n",
            " conv3_block4_1_relu (Activatio  (None, 28, 28, 128)  0          ['conv3_block4_1_bn[0][0]']      \n",
            " n)                                                                                               \n",
            "                                                                                                  \n",
            " conv3_block4_2_conv (Conv2D)   (None, 28, 28, 128)  147584      ['conv3_block4_1_relu[0][0]']    \n",
            "                                                                                                  \n",
            " conv3_block4_2_bn (BatchNormal  (None, 28, 28, 128)  512        ['conv3_block4_2_conv[0][0]']    \n",
            " ization)                                                                                         \n",
            "                                                                                                  \n",
            " conv3_block4_2_relu (Activatio  (None, 28, 28, 128)  0          ['conv3_block4_2_bn[0][0]']      \n",
            " n)                                                                                               \n",
            "                                                                                                  \n",
            " conv3_block4_3_conv (Conv2D)   (None, 28, 28, 512)  66048       ['conv3_block4_2_relu[0][0]']    \n",
            "                                                                                                  \n",
            " conv3_block4_3_bn (BatchNormal  (None, 28, 28, 512)  2048       ['conv3_block4_3_conv[0][0]']    \n",
            " ization)                                                                                         \n",
            "                                                                                                  \n",
            " conv3_block4_add (Add)         (None, 28, 28, 512)  0           ['conv3_block3_out[0][0]',       \n",
            "                                                                  'conv3_block4_3_bn[0][0]']      \n",
            "                                                                                                  \n",
            " conv3_block4_out (Activation)  (None, 28, 28, 512)  0           ['conv3_block4_add[0][0]']       \n",
            "                                                                                                  \n",
            " conv4_block1_1_conv (Conv2D)   (None, 14, 14, 256)  131328      ['conv3_block4_out[0][0]']       \n",
            "                                                                                                  \n",
            " conv4_block1_1_bn (BatchNormal  (None, 14, 14, 256)  1024       ['conv4_block1_1_conv[0][0]']    \n",
            " ization)                                                                                         \n",
            "                                                                                                  \n",
            " conv4_block1_1_relu (Activatio  (None, 14, 14, 256)  0          ['conv4_block1_1_bn[0][0]']      \n",
            " n)                                                                                               \n",
            "                                                                                                  \n",
            " conv4_block1_2_conv (Conv2D)   (None, 14, 14, 256)  590080      ['conv4_block1_1_relu[0][0]']    \n",
            "                                                                                                  \n",
            " conv4_block1_2_bn (BatchNormal  (None, 14, 14, 256)  1024       ['conv4_block1_2_conv[0][0]']    \n",
            " ization)                                                                                         \n",
            "                                                                                                  \n",
            " conv4_block1_2_relu (Activatio  (None, 14, 14, 256)  0          ['conv4_block1_2_bn[0][0]']      \n",
            " n)                                                                                               \n",
            "                                                                                                  \n",
            " conv4_block1_0_conv (Conv2D)   (None, 14, 14, 1024  525312      ['conv3_block4_out[0][0]']       \n",
            "                                )                                                                 \n",
            "                                                                                                  \n",
            " conv4_block1_3_conv (Conv2D)   (None, 14, 14, 1024  263168      ['conv4_block1_2_relu[0][0]']    \n",
            "                                )                                                                 \n",
            "                                                                                                  \n",
            " conv4_block1_0_bn (BatchNormal  (None, 14, 14, 1024  4096       ['conv4_block1_0_conv[0][0]']    \n",
            " ization)                       )                                                                 \n",
            "                                                                                                  \n",
            " conv4_block1_3_bn (BatchNormal  (None, 14, 14, 1024  4096       ['conv4_block1_3_conv[0][0]']    \n",
            " ization)                       )                                                                 \n",
            "                                                                                                  \n",
            " conv4_block1_add (Add)         (None, 14, 14, 1024  0           ['conv4_block1_0_bn[0][0]',      \n",
            "                                )                                 'conv4_block1_3_bn[0][0]']      \n",
            "                                                                                                  \n",
            " conv4_block1_out (Activation)  (None, 14, 14, 1024  0           ['conv4_block1_add[0][0]']       \n",
            "                                )                                                                 \n",
            "                                                                                                  \n",
            " conv4_block2_1_conv (Conv2D)   (None, 14, 14, 256)  262400      ['conv4_block1_out[0][0]']       \n",
            "                                                                                                  \n",
            " conv4_block2_1_bn (BatchNormal  (None, 14, 14, 256)  1024       ['conv4_block2_1_conv[0][0]']    \n",
            " ization)                                                                                         \n",
            "                                                                                                  \n",
            " conv4_block2_1_relu (Activatio  (None, 14, 14, 256)  0          ['conv4_block2_1_bn[0][0]']      \n",
            " n)                                                                                               \n",
            "                                                                                                  \n",
            " conv4_block2_2_conv (Conv2D)   (None, 14, 14, 256)  590080      ['conv4_block2_1_relu[0][0]']    \n",
            "                                                                                                  \n",
            " conv4_block2_2_bn (BatchNormal  (None, 14, 14, 256)  1024       ['conv4_block2_2_conv[0][0]']    \n",
            " ization)                                                                                         \n",
            "                                                                                                  \n",
            " conv4_block2_2_relu (Activatio  (None, 14, 14, 256)  0          ['conv4_block2_2_bn[0][0]']      \n",
            " n)                                                                                               \n",
            "                                                                                                  \n",
            " conv4_block2_3_conv (Conv2D)   (None, 14, 14, 1024  263168      ['conv4_block2_2_relu[0][0]']    \n",
            "                                )                                                                 \n",
            "                                                                                                  \n",
            " conv4_block2_3_bn (BatchNormal  (None, 14, 14, 1024  4096       ['conv4_block2_3_conv[0][0]']    \n",
            " ization)                       )                                                                 \n",
            "                                                                                                  \n",
            " conv4_block2_add (Add)         (None, 14, 14, 1024  0           ['conv4_block1_out[0][0]',       \n",
            "                                )                                 'conv4_block2_3_bn[0][0]']      \n",
            "                                                                                                  \n",
            " conv4_block2_out (Activation)  (None, 14, 14, 1024  0           ['conv4_block2_add[0][0]']       \n",
            "                                )                                                                 \n",
            "                                                                                                  \n",
            " conv4_block3_1_conv (Conv2D)   (None, 14, 14, 256)  262400      ['conv4_block2_out[0][0]']       \n",
            "                                                                                                  \n",
            " conv4_block3_1_bn (BatchNormal  (None, 14, 14, 256)  1024       ['conv4_block3_1_conv[0][0]']    \n",
            " ization)                                                                                         \n",
            "                                                                                                  \n",
            " conv4_block3_1_relu (Activatio  (None, 14, 14, 256)  0          ['conv4_block3_1_bn[0][0]']      \n",
            " n)                                                                                               \n",
            "                                                                                                  \n",
            " conv4_block3_2_conv (Conv2D)   (None, 14, 14, 256)  590080      ['conv4_block3_1_relu[0][0]']    \n",
            "                                                                                                  \n",
            " conv4_block3_2_bn (BatchNormal  (None, 14, 14, 256)  1024       ['conv4_block3_2_conv[0][0]']    \n",
            " ization)                                                                                         \n",
            "                                                                                                  \n",
            " conv4_block3_2_relu (Activatio  (None, 14, 14, 256)  0          ['conv4_block3_2_bn[0][0]']      \n",
            " n)                                                                                               \n",
            "                                                                                                  \n",
            " conv4_block3_3_conv (Conv2D)   (None, 14, 14, 1024  263168      ['conv4_block3_2_relu[0][0]']    \n",
            "                                )                                                                 \n",
            "                                                                                                  \n",
            " conv4_block3_3_bn (BatchNormal  (None, 14, 14, 1024  4096       ['conv4_block3_3_conv[0][0]']    \n",
            " ization)                       )                                                                 \n",
            "                                                                                                  \n",
            " conv4_block3_add (Add)         (None, 14, 14, 1024  0           ['conv4_block2_out[0][0]',       \n",
            "                                )                                 'conv4_block3_3_bn[0][0]']      \n",
            "                                                                                                  \n",
            " conv4_block3_out (Activation)  (None, 14, 14, 1024  0           ['conv4_block3_add[0][0]']       \n",
            "                                )                                                                 \n",
            "                                                                                                  \n",
            " conv4_block4_1_conv (Conv2D)   (None, 14, 14, 256)  262400      ['conv4_block3_out[0][0]']       \n",
            "                                                                                                  \n",
            " conv4_block4_1_bn (BatchNormal  (None, 14, 14, 256)  1024       ['conv4_block4_1_conv[0][0]']    \n",
            " ization)                                                                                         \n",
            "                                                                                                  \n",
            " conv4_block4_1_relu (Activatio  (None, 14, 14, 256)  0          ['conv4_block4_1_bn[0][0]']      \n",
            " n)                                                                                               \n",
            "                                                                                                  \n",
            " conv4_block4_2_conv (Conv2D)   (None, 14, 14, 256)  590080      ['conv4_block4_1_relu[0][0]']    \n",
            "                                                                                                  \n",
            " conv4_block4_2_bn (BatchNormal  (None, 14, 14, 256)  1024       ['conv4_block4_2_conv[0][0]']    \n",
            " ization)                                                                                         \n",
            "                                                                                                  \n",
            " conv4_block4_2_relu (Activatio  (None, 14, 14, 256)  0          ['conv4_block4_2_bn[0][0]']      \n",
            " n)                                                                                               \n",
            "                                                                                                  \n",
            " conv4_block4_3_conv (Conv2D)   (None, 14, 14, 1024  263168      ['conv4_block4_2_relu[0][0]']    \n",
            "                                )                                                                 \n",
            "                                                                                                  \n",
            " conv4_block4_3_bn (BatchNormal  (None, 14, 14, 1024  4096       ['conv4_block4_3_conv[0][0]']    \n",
            " ization)                       )                                                                 \n",
            "                                                                                                  \n",
            " conv4_block4_add (Add)         (None, 14, 14, 1024  0           ['conv4_block3_out[0][0]',       \n",
            "                                )                                 'conv4_block4_3_bn[0][0]']      \n",
            "                                                                                                  \n",
            " conv4_block4_out (Activation)  (None, 14, 14, 1024  0           ['conv4_block4_add[0][0]']       \n",
            "                                )                                                                 \n",
            "                                                                                                  \n",
            " conv4_block5_1_conv (Conv2D)   (None, 14, 14, 256)  262400      ['conv4_block4_out[0][0]']       \n",
            "                                                                                                  \n",
            " conv4_block5_1_bn (BatchNormal  (None, 14, 14, 256)  1024       ['conv4_block5_1_conv[0][0]']    \n",
            " ization)                                                                                         \n",
            "                                                                                                  \n",
            " conv4_block5_1_relu (Activatio  (None, 14, 14, 256)  0          ['conv4_block5_1_bn[0][0]']      \n",
            " n)                                                                                               \n",
            "                                                                                                  \n",
            " conv4_block5_2_conv (Conv2D)   (None, 14, 14, 256)  590080      ['conv4_block5_1_relu[0][0]']    \n",
            "                                                                                                  \n",
            " conv4_block5_2_bn (BatchNormal  (None, 14, 14, 256)  1024       ['conv4_block5_2_conv[0][0]']    \n",
            " ization)                                                                                         \n",
            "                                                                                                  \n",
            " conv4_block5_2_relu (Activatio  (None, 14, 14, 256)  0          ['conv4_block5_2_bn[0][0]']      \n",
            " n)                                                                                               \n",
            "                                                                                                  \n",
            " conv4_block5_3_conv (Conv2D)   (None, 14, 14, 1024  263168      ['conv4_block5_2_relu[0][0]']    \n",
            "                                )                                                                 \n",
            "                                                                                                  \n",
            " conv4_block5_3_bn (BatchNormal  (None, 14, 14, 1024  4096       ['conv4_block5_3_conv[0][0]']    \n",
            " ization)                       )                                                                 \n",
            "                                                                                                  \n",
            " conv4_block5_add (Add)         (None, 14, 14, 1024  0           ['conv4_block4_out[0][0]',       \n",
            "                                )                                 'conv4_block5_3_bn[0][0]']      \n",
            "                                                                                                  \n",
            " conv4_block5_out (Activation)  (None, 14, 14, 1024  0           ['conv4_block5_add[0][0]']       \n",
            "                                )                                                                 \n",
            "                                                                                                  \n",
            " conv4_block6_1_conv (Conv2D)   (None, 14, 14, 256)  262400      ['conv4_block5_out[0][0]']       \n",
            "                                                                                                  \n",
            " conv4_block6_1_bn (BatchNormal  (None, 14, 14, 256)  1024       ['conv4_block6_1_conv[0][0]']    \n",
            " ization)                                                                                         \n",
            "                                                                                                  \n",
            " conv4_block6_1_relu (Activatio  (None, 14, 14, 256)  0          ['conv4_block6_1_bn[0][0]']      \n",
            " n)                                                                                               \n",
            "                                                                                                  \n",
            " conv4_block6_2_conv (Conv2D)   (None, 14, 14, 256)  590080      ['conv4_block6_1_relu[0][0]']    \n",
            "                                                                                                  \n",
            " conv4_block6_2_bn (BatchNormal  (None, 14, 14, 256)  1024       ['conv4_block6_2_conv[0][0]']    \n",
            " ization)                                                                                         \n",
            "                                                                                                  \n",
            " conv4_block6_2_relu (Activatio  (None, 14, 14, 256)  0          ['conv4_block6_2_bn[0][0]']      \n",
            " n)                                                                                               \n",
            "                                                                                                  \n",
            " conv4_block6_3_conv (Conv2D)   (None, 14, 14, 1024  263168      ['conv4_block6_2_relu[0][0]']    \n",
            "                                )                                                                 \n",
            "                                                                                                  \n",
            " conv4_block6_3_bn (BatchNormal  (None, 14, 14, 1024  4096       ['conv4_block6_3_conv[0][0]']    \n",
            " ization)                       )                                                                 \n",
            "                                                                                                  \n",
            " conv4_block6_add (Add)         (None, 14, 14, 1024  0           ['conv4_block5_out[0][0]',       \n",
            "                                )                                 'conv4_block6_3_bn[0][0]']      \n",
            "                                                                                                  \n",
            " conv4_block6_out (Activation)  (None, 14, 14, 1024  0           ['conv4_block6_add[0][0]']       \n",
            "                                )                                                                 \n",
            "                                                                                                  \n",
            " conv5_block1_1_conv (Conv2D)   (None, 7, 7, 512)    524800      ['conv4_block6_out[0][0]']       \n",
            "                                                                                                  \n",
            " conv5_block1_1_bn (BatchNormal  (None, 7, 7, 512)   2048        ['conv5_block1_1_conv[0][0]']    \n",
            " ization)                                                                                         \n",
            "                                                                                                  \n",
            " conv5_block1_1_relu (Activatio  (None, 7, 7, 512)   0           ['conv5_block1_1_bn[0][0]']      \n",
            " n)                                                                                               \n",
            "                                                                                                  \n",
            " conv5_block1_2_conv (Conv2D)   (None, 7, 7, 512)    2359808     ['conv5_block1_1_relu[0][0]']    \n",
            "                                                                                                  \n",
            " conv5_block1_2_bn (BatchNormal  (None, 7, 7, 512)   2048        ['conv5_block1_2_conv[0][0]']    \n",
            " ization)                                                                                         \n",
            "                                                                                                  \n",
            " conv5_block1_2_relu (Activatio  (None, 7, 7, 512)   0           ['conv5_block1_2_bn[0][0]']      \n",
            " n)                                                                                               \n",
            "                                                                                                  \n",
            " conv5_block1_0_conv (Conv2D)   (None, 7, 7, 2048)   2099200     ['conv4_block6_out[0][0]']       \n",
            "                                                                                                  \n",
            " conv5_block1_3_conv (Conv2D)   (None, 7, 7, 2048)   1050624     ['conv5_block1_2_relu[0][0]']    \n",
            "                                                                                                  \n",
            " conv5_block1_0_bn (BatchNormal  (None, 7, 7, 2048)  8192        ['conv5_block1_0_conv[0][0]']    \n",
            " ization)                                                                                         \n",
            "                                                                                                  \n",
            " conv5_block1_3_bn (BatchNormal  (None, 7, 7, 2048)  8192        ['conv5_block1_3_conv[0][0]']    \n",
            " ization)                                                                                         \n",
            "                                                                                                  \n",
            " conv5_block1_add (Add)         (None, 7, 7, 2048)   0           ['conv5_block1_0_bn[0][0]',      \n",
            "                                                                  'conv5_block1_3_bn[0][0]']      \n",
            "                                                                                                  \n",
            " conv5_block1_out (Activation)  (None, 7, 7, 2048)   0           ['conv5_block1_add[0][0]']       \n",
            "                                                                                                  \n",
            " conv5_block2_1_conv (Conv2D)   (None, 7, 7, 512)    1049088     ['conv5_block1_out[0][0]']       \n",
            "                                                                                                  \n",
            " conv5_block2_1_bn (BatchNormal  (None, 7, 7, 512)   2048        ['conv5_block2_1_conv[0][0]']    \n",
            " ization)                                                                                         \n",
            "                                                                                                  \n",
            " conv5_block2_1_relu (Activatio  (None, 7, 7, 512)   0           ['conv5_block2_1_bn[0][0]']      \n",
            " n)                                                                                               \n",
            "                                                                                                  \n",
            " conv5_block2_2_conv (Conv2D)   (None, 7, 7, 512)    2359808     ['conv5_block2_1_relu[0][0]']    \n",
            "                                                                                                  \n",
            " conv5_block2_2_bn (BatchNormal  (None, 7, 7, 512)   2048        ['conv5_block2_2_conv[0][0]']    \n",
            " ization)                                                                                         \n",
            "                                                                                                  \n",
            " conv5_block2_2_relu (Activatio  (None, 7, 7, 512)   0           ['conv5_block2_2_bn[0][0]']      \n",
            " n)                                                                                               \n",
            "                                                                                                  \n",
            " conv5_block2_3_conv (Conv2D)   (None, 7, 7, 2048)   1050624     ['conv5_block2_2_relu[0][0]']    \n",
            "                                                                                                  \n",
            " conv5_block2_3_bn (BatchNormal  (None, 7, 7, 2048)  8192        ['conv5_block2_3_conv[0][0]']    \n",
            " ization)                                                                                         \n",
            "                                                                                                  \n",
            " conv5_block2_add (Add)         (None, 7, 7, 2048)   0           ['conv5_block1_out[0][0]',       \n",
            "                                                                  'conv5_block2_3_bn[0][0]']      \n",
            "                                                                                                  \n",
            " conv5_block2_out (Activation)  (None, 7, 7, 2048)   0           ['conv5_block2_add[0][0]']       \n",
            "                                                                                                  \n",
            " conv5_block3_1_conv (Conv2D)   (None, 7, 7, 512)    1049088     ['conv5_block2_out[0][0]']       \n",
            "                                                                                                  \n",
            " conv5_block3_1_bn (BatchNormal  (None, 7, 7, 512)   2048        ['conv5_block3_1_conv[0][0]']    \n",
            " ization)                                                                                         \n",
            "                                                                                                  \n",
            " conv5_block3_1_relu (Activatio  (None, 7, 7, 512)   0           ['conv5_block3_1_bn[0][0]']      \n",
            " n)                                                                                               \n",
            "                                                                                                  \n",
            " conv5_block3_2_conv (Conv2D)   (None, 7, 7, 512)    2359808     ['conv5_block3_1_relu[0][0]']    \n",
            "                                                                                                  \n",
            " conv5_block3_2_bn (BatchNormal  (None, 7, 7, 512)   2048        ['conv5_block3_2_conv[0][0]']    \n",
            " ization)                                                                                         \n",
            "                                                                                                  \n",
            " conv5_block3_2_relu (Activatio  (None, 7, 7, 512)   0           ['conv5_block3_2_bn[0][0]']      \n",
            " n)                                                                                               \n",
            "                                                                                                  \n",
            " conv5_block3_3_conv (Conv2D)   (None, 7, 7, 2048)   1050624     ['conv5_block3_2_relu[0][0]']    \n",
            "                                                                                                  \n",
            " conv5_block3_3_bn (BatchNormal  (None, 7, 7, 2048)  8192        ['conv5_block3_3_conv[0][0]']    \n",
            " ization)                                                                                         \n",
            "                                                                                                  \n",
            " conv5_block3_add (Add)         (None, 7, 7, 2048)   0           ['conv5_block2_out[0][0]',       \n",
            "                                                                  'conv5_block3_3_bn[0][0]']      \n",
            "                                                                                                  \n",
            " conv5_block3_out (Activation)  (None, 7, 7, 2048)   0           ['conv5_block3_add[0][0]']       \n",
            "                                                                                                  \n",
            " avg_pool (GlobalAveragePooling  (None, 2048)        0           ['conv5_block3_out[0][0]']       \n",
            " 2D)                                                                                              \n",
            "                                                                                                  \n",
            " predictions (Dense)            (None, 1000)         2049000     ['avg_pool[0][0]']               \n",
            "                                                                                                  \n",
            " dense (Dense)                  (None, 6)            6006        ['predictions[0][0]']            \n",
            "                                                                                                  \n",
            "==================================================================================================\n",
            "Total params: 25,642,718\n",
            "Trainable params: 25,589,598\n",
            "Non-trainable params: 53,120\n",
            "__________________________________________________________________________________________________\n"
          ]
        }
      ]
    },
    {
      "cell_type": "code",
      "source": [
        "input = Input(shape=(224,224,1), name='img_input')\n",
        "x = Conv2D(3,(3,3),padding='same')(input) \n",
        "z = model_res50(x)\n",
        "model_r = Model(inputs= input, outputs= z)\n",
        "model_r.summary()"
      ],
      "metadata": {
        "colab": {
          "base_uri": "https://localhost:8080/"
        },
        "id": "Yf7-9R8YjuPm",
        "outputId": "88ebbc74-5963-469a-cd30-427f6de05a21"
      },
      "execution_count": null,
      "outputs": [
        {
          "output_type": "stream",
          "name": "stdout",
          "text": [
            "Model: \"model_1\"\n",
            "_________________________________________________________________\n",
            " Layer (type)                Output Shape              Param #   \n",
            "=================================================================\n",
            " img_input (InputLayer)      [(None, 224, 224, 1)]     0         \n",
            "                                                                 \n",
            " conv2d (Conv2D)             (None, 224, 224, 3)       30        \n",
            "                                                                 \n",
            " model (Functional)          (None, 6)                 25642718  \n",
            "                                                                 \n",
            "=================================================================\n",
            "Total params: 25,642,748\n",
            "Trainable params: 25,589,628\n",
            "Non-trainable params: 53,120\n",
            "_________________________________________________________________\n"
          ]
        }
      ]
    },
    {
      "cell_type": "code",
      "source": [
        "model_r.compile(optimizer=optimizers.Adam(),\n",
        "              loss='categorical_crossentropy',\n",
        "              metrics=['accuracy'])"
      ],
      "metadata": {
        "id": "ZpX9D0x3k_d-"
      },
      "execution_count": null,
      "outputs": []
    },
    {
      "cell_type": "code",
      "source": [
        "history = model_r.fit(x=x_train, y=y_train,validation_data=(x_val,y_val), epochs=100, callbacks=[early_stop, check_pointer, reduce_lr])"
      ],
      "metadata": {
        "colab": {
          "base_uri": "https://localhost:8080/"
        },
        "id": "A74kFHCSlIfi",
        "outputId": "0ee11072-20a1-4d23-e7c5-7b10ebde9ce4"
      },
      "execution_count": null,
      "outputs": [
        {
          "output_type": "stream",
          "name": "stdout",
          "text": [
            "Epoch 1/100\n",
            "563/563 [==============================] - ETA: 0s - loss: 1.7916 - accuracy: 0.1681"
          ]
        },
        {
          "output_type": "stream",
          "name": "stderr",
          "text": [
            "/usr/local/lib/python3.7/dist-packages/keras/engine/functional.py:1410: CustomMaskWarning: Custom mask layers require a config and must override get_config. When loading, the custom mask layer must be passed to the custom_objects argument.\n",
            "  layer_config = serialize_layer_fn(layer)\n"
          ]
        },
        {
          "output_type": "stream",
          "name": "stdout",
          "text": [
            "\b\b\b\b\b\b\b\b\b\b\b\b\b\b\b\b\b\b\b\b\b\b\b\b\b\b\b\b\b\b\b\b\b\b\b\b\b\b\b\b\b\b\b\b\b\b\b\b\b\b\b\b\b\b\b\b\b\b\b\b\b\b\b\b\b\b\b\b\b\b\b\b\b\b\b\b\b\b\b\b\b\b\b\b\r563/563 [==============================] - 208s 339ms/step - loss: 1.7916 - accuracy: 0.1681 - val_loss: 1.7919 - val_accuracy: 0.1667 - lr: 0.0010\n",
            "Epoch 2/100\n",
            "563/563 [==============================] - 190s 338ms/step - loss: 1.7874 - accuracy: 0.1827 - val_loss: 1.7925 - val_accuracy: 0.1743 - lr: 0.0010\n",
            "Epoch 3/100\n",
            "563/563 [==============================] - 195s 347ms/step - loss: 1.7867 - accuracy: 0.1910 - val_loss: 1.7808 - val_accuracy: 0.1983 - lr: 0.0010\n",
            "Epoch 4/100\n",
            "563/563 [==============================] - 196s 348ms/step - loss: 1.7723 - accuracy: 0.2101 - val_loss: 1.7666 - val_accuracy: 0.2183 - lr: 0.0010\n",
            "Epoch 5/100\n",
            "563/563 [==============================] - 192s 340ms/step - loss: 1.7535 - accuracy: 0.2269 - val_loss: 1.8165 - val_accuracy: 0.1727 - lr: 0.0010\n",
            "Epoch 6/100\n",
            "563/563 [==============================] - 191s 340ms/step - loss: 1.7154 - accuracy: 0.2560 - val_loss: 1.8122 - val_accuracy: 0.1943 - lr: 0.0010\n",
            "Epoch 7/100\n",
            "563/563 [==============================] - 191s 340ms/step - loss: 1.6637 - accuracy: 0.2871 - val_loss: 1.8381 - val_accuracy: 0.1623 - lr: 0.0010\n",
            "Epoch 8/100\n",
            "563/563 [==============================] - 191s 340ms/step - loss: 1.6746 - accuracy: 0.2723 - val_loss: 1.9212 - val_accuracy: 0.1697 - lr: 0.0010\n",
            "Epoch 9/100\n",
            "563/563 [==============================] - 196s 347ms/step - loss: 1.5842 - accuracy: 0.3353 - val_loss: 1.7636 - val_accuracy: 0.2317 - lr: 0.0010\n",
            "Epoch 10/100\n",
            "563/563 [==============================] - 192s 341ms/step - loss: 1.5192 - accuracy: 0.3594 - val_loss: 1.8239 - val_accuracy: 0.1827 - lr: 0.0010\n",
            "Epoch 11/100\n",
            "563/563 [==============================] - 195s 347ms/step - loss: 1.4790 - accuracy: 0.3795 - val_loss: 1.4851 - val_accuracy: 0.3753 - lr: 0.0010\n",
            "Epoch 12/100\n",
            "563/563 [==============================] - 192s 341ms/step - loss: 1.4602 - accuracy: 0.3829 - val_loss: 1.5305 - val_accuracy: 0.3533 - lr: 0.0010\n",
            "Epoch 13/100\n",
            "563/563 [==============================] - 195s 347ms/step - loss: 1.4202 - accuracy: 0.3945 - val_loss: 1.4171 - val_accuracy: 0.4070 - lr: 0.0010\n",
            "Epoch 14/100\n",
            "563/563 [==============================] - 195s 347ms/step - loss: 1.3925 - accuracy: 0.4077 - val_loss: 1.3993 - val_accuracy: 0.4167 - lr: 0.0010\n",
            "Epoch 15/100\n",
            "563/563 [==============================] - 192s 341ms/step - loss: 1.3537 - accuracy: 0.4279 - val_loss: 1.4595 - val_accuracy: 0.3897 - lr: 0.0010\n",
            "Epoch 16/100\n",
            "563/563 [==============================] - 192s 341ms/step - loss: 1.3980 - accuracy: 0.4166 - val_loss: 1.6173 - val_accuracy: 0.3177 - lr: 0.0010\n",
            "Epoch 17/100\n",
            "563/563 [==============================] - 192s 341ms/step - loss: 1.4043 - accuracy: 0.4109 - val_loss: 1.5756 - val_accuracy: 0.3410 - lr: 0.0010\n",
            "Epoch 18/100\n",
            "563/563 [==============================] - 195s 347ms/step - loss: 1.3120 - accuracy: 0.4498 - val_loss: 1.3671 - val_accuracy: 0.4310 - lr: 0.0010\n",
            "Epoch 19/100\n",
            "563/563 [==============================] - 196s 348ms/step - loss: 1.3039 - accuracy: 0.4658 - val_loss: 1.3601 - val_accuracy: 0.4343 - lr: 0.0010\n",
            "Epoch 20/100\n",
            "563/563 [==============================] - 196s 347ms/step - loss: 1.3012 - accuracy: 0.4730 - val_loss: 1.3405 - val_accuracy: 0.4463 - lr: 0.0010\n",
            "Epoch 21/100\n",
            "563/563 [==============================] - 196s 348ms/step - loss: 1.2127 - accuracy: 0.5030 - val_loss: 1.3233 - val_accuracy: 0.4520 - lr: 0.0010\n",
            "Epoch 22/100\n",
            "563/563 [==============================] - 198s 351ms/step - loss: 1.1591 - accuracy: 0.5343 - val_loss: 1.3205 - val_accuracy: 0.4800 - lr: 0.0010\n",
            "Epoch 23/100\n",
            "563/563 [==============================] - 194s 345ms/step - loss: 1.1125 - accuracy: 0.5554 - val_loss: 1.3520 - val_accuracy: 0.4533 - lr: 0.0010\n",
            "Epoch 24/100\n",
            "563/563 [==============================] - 194s 345ms/step - loss: 1.0562 - accuracy: 0.5769 - val_loss: 1.3262 - val_accuracy: 0.4770 - lr: 0.0010\n",
            "Epoch 25/100\n",
            "563/563 [==============================] - 193s 342ms/step - loss: 0.9873 - accuracy: 0.6134 - val_loss: 1.3633 - val_accuracy: 0.4707 - lr: 0.0010\n",
            "Epoch 26/100\n",
            "563/563 [==============================] - 194s 345ms/step - loss: 0.9208 - accuracy: 0.6552 - val_loss: 1.3269 - val_accuracy: 0.5033 - lr: 0.0010\n",
            "Epoch 27/100\n",
            "563/563 [==============================] - 193s 342ms/step - loss: 0.8467 - accuracy: 0.6872 - val_loss: 1.3687 - val_accuracy: 0.4960 - lr: 0.0010\n",
            "Epoch 28/100\n",
            "563/563 [==============================] - 193s 342ms/step - loss: 0.7691 - accuracy: 0.7254 - val_loss: 1.3682 - val_accuracy: 0.5107 - lr: 0.0010\n",
            "Epoch 29/100\n",
            "563/563 [==============================] - 193s 342ms/step - loss: 0.6806 - accuracy: 0.7630 - val_loss: 1.5273 - val_accuracy: 0.4723 - lr: 0.0010\n",
            "Epoch 30/100\n",
            "563/563 [==============================] - 194s 345ms/step - loss: 0.6086 - accuracy: 0.7899 - val_loss: 1.4346 - val_accuracy: 0.5073 - lr: 0.0010\n",
            "Epoch 31/100\n",
            "563/563 [==============================] - 194s 345ms/step - loss: 0.5214 - accuracy: 0.8305 - val_loss: 1.6417 - val_accuracy: 0.4883 - lr: 0.0010\n",
            "Epoch 32/100\n",
            "563/563 [==============================] - 193s 343ms/step - loss: 0.4512 - accuracy: 0.8594 - val_loss: 1.5196 - val_accuracy: 0.5247 - lr: 0.0010\n",
            "Epoch 33/100\n",
            "563/563 [==============================] - 193s 343ms/step - loss: 0.3077 - accuracy: 0.9235 - val_loss: 1.4809 - val_accuracy: 0.5327 - lr: 1.0000e-04\n",
            "Epoch 34/100\n",
            "563/563 [==============================] - 193s 343ms/step - loss: 0.2611 - accuracy: 0.9417 - val_loss: 1.4944 - val_accuracy: 0.5350 - lr: 1.0000e-04\n",
            "Epoch 35/100\n",
            "563/563 [==============================] - 193s 343ms/step - loss: 0.2370 - accuracy: 0.9496 - val_loss: 1.5284 - val_accuracy: 0.5317 - lr: 1.0000e-04\n",
            "Epoch 36/100\n",
            "563/563 [==============================] - 193s 343ms/step - loss: 0.2158 - accuracy: 0.9569 - val_loss: 1.5547 - val_accuracy: 0.5300 - lr: 1.0000e-04\n",
            "Epoch 37/100\n",
            "563/563 [==============================] - 193s 343ms/step - loss: 0.1980 - accuracy: 0.9621 - val_loss: 1.5868 - val_accuracy: 0.5287 - lr: 1.0000e-04\n",
            "Epoch 38/100\n",
            "563/563 [==============================] - 193s 343ms/step - loss: 0.1835 - accuracy: 0.9668 - val_loss: 1.6018 - val_accuracy: 0.5267 - lr: 1.0000e-04\n",
            "Epoch 39/100\n",
            "563/563 [==============================] - 193s 343ms/step - loss: 0.1695 - accuracy: 0.9707 - val_loss: 1.6405 - val_accuracy: 0.5230 - lr: 1.0000e-04\n",
            "Epoch 40/100\n",
            "563/563 [==============================] - 193s 342ms/step - loss: 0.1600 - accuracy: 0.9722 - val_loss: 1.6665 - val_accuracy: 0.5257 - lr: 1.0000e-04\n",
            "Epoch 41/100\n",
            "563/563 [==============================] - 192s 342ms/step - loss: 0.1500 - accuracy: 0.9746 - val_loss: 1.6774 - val_accuracy: 0.5220 - lr: 1.0000e-04\n",
            "Epoch 42/100\n",
            "563/563 [==============================] - 193s 342ms/step - loss: 0.1423 - accuracy: 0.9758 - val_loss: 1.7122 - val_accuracy: 0.5197 - lr: 1.0000e-04\n"
          ]
        }
      ]
    },
    {
      "cell_type": "markdown",
      "source": [
        "### Final best validation accuracy on ResNet50 is 53.50%"
      ],
      "metadata": {
        "id": "tdScb9TF6TXx"
      }
    },
    {
      "cell_type": "markdown",
      "source": [
        "### MobileNet"
      ],
      "metadata": {
        "id": "7C7rm3n88C2B"
      }
    },
    {
      "cell_type": "code",
      "source": [
        "from tensorflow.keras.applications import MobileNet\n",
        "\n",
        "model_mobile = MobileNet()\n",
        "\n",
        "z = model_mobile.layers[-1].output\n",
        "output = Dense(6,activation = 'softmax')(z)\n",
        "model_mobile = Model(inputs = model_mobile.input, outputs = output)\n",
        "model_mobile.summary()"
      ],
      "metadata": {
        "colab": {
          "base_uri": "https://localhost:8080/"
        },
        "id": "Ictnz-OU7Srl",
        "outputId": "dda60f10-5c92-4114-a8f1-837848a1dbdd"
      },
      "execution_count": null,
      "outputs": [
        {
          "output_type": "stream",
          "name": "stdout",
          "text": [
            "Downloading data from https://storage.googleapis.com/tensorflow/keras-applications/mobilenet/mobilenet_1_0_224_tf.h5\n",
            "17227776/17225924 [==============================] - 0s 0us/step\n",
            "17235968/17225924 [==============================] - 0s 0us/step\n",
            "Model: \"model\"\n",
            "_________________________________________________________________\n",
            " Layer (type)                Output Shape              Param #   \n",
            "=================================================================\n",
            " input_1 (InputLayer)        [(None, 224, 224, 3)]     0         \n",
            "                                                                 \n",
            " conv1 (Conv2D)              (None, 112, 112, 32)      864       \n",
            "                                                                 \n",
            " conv1_bn (BatchNormalizatio  (None, 112, 112, 32)     128       \n",
            " n)                                                              \n",
            "                                                                 \n",
            " conv1_relu (ReLU)           (None, 112, 112, 32)      0         \n",
            "                                                                 \n",
            " conv_dw_1 (DepthwiseConv2D)  (None, 112, 112, 32)     288       \n",
            "                                                                 \n",
            " conv_dw_1_bn (BatchNormaliz  (None, 112, 112, 32)     128       \n",
            " ation)                                                          \n",
            "                                                                 \n",
            " conv_dw_1_relu (ReLU)       (None, 112, 112, 32)      0         \n",
            "                                                                 \n",
            " conv_pw_1 (Conv2D)          (None, 112, 112, 64)      2048      \n",
            "                                                                 \n",
            " conv_pw_1_bn (BatchNormaliz  (None, 112, 112, 64)     256       \n",
            " ation)                                                          \n",
            "                                                                 \n",
            " conv_pw_1_relu (ReLU)       (None, 112, 112, 64)      0         \n",
            "                                                                 \n",
            " conv_pad_2 (ZeroPadding2D)  (None, 113, 113, 64)      0         \n",
            "                                                                 \n",
            " conv_dw_2 (DepthwiseConv2D)  (None, 56, 56, 64)       576       \n",
            "                                                                 \n",
            " conv_dw_2_bn (BatchNormaliz  (None, 56, 56, 64)       256       \n",
            " ation)                                                          \n",
            "                                                                 \n",
            " conv_dw_2_relu (ReLU)       (None, 56, 56, 64)        0         \n",
            "                                                                 \n",
            " conv_pw_2 (Conv2D)          (None, 56, 56, 128)       8192      \n",
            "                                                                 \n",
            " conv_pw_2_bn (BatchNormaliz  (None, 56, 56, 128)      512       \n",
            " ation)                                                          \n",
            "                                                                 \n",
            " conv_pw_2_relu (ReLU)       (None, 56, 56, 128)       0         \n",
            "                                                                 \n",
            " conv_dw_3 (DepthwiseConv2D)  (None, 56, 56, 128)      1152      \n",
            "                                                                 \n",
            " conv_dw_3_bn (BatchNormaliz  (None, 56, 56, 128)      512       \n",
            " ation)                                                          \n",
            "                                                                 \n",
            " conv_dw_3_relu (ReLU)       (None, 56, 56, 128)       0         \n",
            "                                                                 \n",
            " conv_pw_3 (Conv2D)          (None, 56, 56, 128)       16384     \n",
            "                                                                 \n",
            " conv_pw_3_bn (BatchNormaliz  (None, 56, 56, 128)      512       \n",
            " ation)                                                          \n",
            "                                                                 \n",
            " conv_pw_3_relu (ReLU)       (None, 56, 56, 128)       0         \n",
            "                                                                 \n",
            " conv_pad_4 (ZeroPadding2D)  (None, 57, 57, 128)       0         \n",
            "                                                                 \n",
            " conv_dw_4 (DepthwiseConv2D)  (None, 28, 28, 128)      1152      \n",
            "                                                                 \n",
            " conv_dw_4_bn (BatchNormaliz  (None, 28, 28, 128)      512       \n",
            " ation)                                                          \n",
            "                                                                 \n",
            " conv_dw_4_relu (ReLU)       (None, 28, 28, 128)       0         \n",
            "                                                                 \n",
            " conv_pw_4 (Conv2D)          (None, 28, 28, 256)       32768     \n",
            "                                                                 \n",
            " conv_pw_4_bn (BatchNormaliz  (None, 28, 28, 256)      1024      \n",
            " ation)                                                          \n",
            "                                                                 \n",
            " conv_pw_4_relu (ReLU)       (None, 28, 28, 256)       0         \n",
            "                                                                 \n",
            " conv_dw_5 (DepthwiseConv2D)  (None, 28, 28, 256)      2304      \n",
            "                                                                 \n",
            " conv_dw_5_bn (BatchNormaliz  (None, 28, 28, 256)      1024      \n",
            " ation)                                                          \n",
            "                                                                 \n",
            " conv_dw_5_relu (ReLU)       (None, 28, 28, 256)       0         \n",
            "                                                                 \n",
            " conv_pw_5 (Conv2D)          (None, 28, 28, 256)       65536     \n",
            "                                                                 \n",
            " conv_pw_5_bn (BatchNormaliz  (None, 28, 28, 256)      1024      \n",
            " ation)                                                          \n",
            "                                                                 \n",
            " conv_pw_5_relu (ReLU)       (None, 28, 28, 256)       0         \n",
            "                                                                 \n",
            " conv_pad_6 (ZeroPadding2D)  (None, 29, 29, 256)       0         \n",
            "                                                                 \n",
            " conv_dw_6 (DepthwiseConv2D)  (None, 14, 14, 256)      2304      \n",
            "                                                                 \n",
            " conv_dw_6_bn (BatchNormaliz  (None, 14, 14, 256)      1024      \n",
            " ation)                                                          \n",
            "                                                                 \n",
            " conv_dw_6_relu (ReLU)       (None, 14, 14, 256)       0         \n",
            "                                                                 \n",
            " conv_pw_6 (Conv2D)          (None, 14, 14, 512)       131072    \n",
            "                                                                 \n",
            " conv_pw_6_bn (BatchNormaliz  (None, 14, 14, 512)      2048      \n",
            " ation)                                                          \n",
            "                                                                 \n",
            " conv_pw_6_relu (ReLU)       (None, 14, 14, 512)       0         \n",
            "                                                                 \n",
            " conv_dw_7 (DepthwiseConv2D)  (None, 14, 14, 512)      4608      \n",
            "                                                                 \n",
            " conv_dw_7_bn (BatchNormaliz  (None, 14, 14, 512)      2048      \n",
            " ation)                                                          \n",
            "                                                                 \n",
            " conv_dw_7_relu (ReLU)       (None, 14, 14, 512)       0         \n",
            "                                                                 \n",
            " conv_pw_7 (Conv2D)          (None, 14, 14, 512)       262144    \n",
            "                                                                 \n",
            " conv_pw_7_bn (BatchNormaliz  (None, 14, 14, 512)      2048      \n",
            " ation)                                                          \n",
            "                                                                 \n",
            " conv_pw_7_relu (ReLU)       (None, 14, 14, 512)       0         \n",
            "                                                                 \n",
            " conv_dw_8 (DepthwiseConv2D)  (None, 14, 14, 512)      4608      \n",
            "                                                                 \n",
            " conv_dw_8_bn (BatchNormaliz  (None, 14, 14, 512)      2048      \n",
            " ation)                                                          \n",
            "                                                                 \n",
            " conv_dw_8_relu (ReLU)       (None, 14, 14, 512)       0         \n",
            "                                                                 \n",
            " conv_pw_8 (Conv2D)          (None, 14, 14, 512)       262144    \n",
            "                                                                 \n",
            " conv_pw_8_bn (BatchNormaliz  (None, 14, 14, 512)      2048      \n",
            " ation)                                                          \n",
            "                                                                 \n",
            " conv_pw_8_relu (ReLU)       (None, 14, 14, 512)       0         \n",
            "                                                                 \n",
            " conv_dw_9 (DepthwiseConv2D)  (None, 14, 14, 512)      4608      \n",
            "                                                                 \n",
            " conv_dw_9_bn (BatchNormaliz  (None, 14, 14, 512)      2048      \n",
            " ation)                                                          \n",
            "                                                                 \n",
            " conv_dw_9_relu (ReLU)       (None, 14, 14, 512)       0         \n",
            "                                                                 \n",
            " conv_pw_9 (Conv2D)          (None, 14, 14, 512)       262144    \n",
            "                                                                 \n",
            " conv_pw_9_bn (BatchNormaliz  (None, 14, 14, 512)      2048      \n",
            " ation)                                                          \n",
            "                                                                 \n",
            " conv_pw_9_relu (ReLU)       (None, 14, 14, 512)       0         \n",
            "                                                                 \n",
            " conv_dw_10 (DepthwiseConv2D  (None, 14, 14, 512)      4608      \n",
            " )                                                               \n",
            "                                                                 \n",
            " conv_dw_10_bn (BatchNormali  (None, 14, 14, 512)      2048      \n",
            " zation)                                                         \n",
            "                                                                 \n",
            " conv_dw_10_relu (ReLU)      (None, 14, 14, 512)       0         \n",
            "                                                                 \n",
            " conv_pw_10 (Conv2D)         (None, 14, 14, 512)       262144    \n",
            "                                                                 \n",
            " conv_pw_10_bn (BatchNormali  (None, 14, 14, 512)      2048      \n",
            " zation)                                                         \n",
            "                                                                 \n",
            " conv_pw_10_relu (ReLU)      (None, 14, 14, 512)       0         \n",
            "                                                                 \n",
            " conv_dw_11 (DepthwiseConv2D  (None, 14, 14, 512)      4608      \n",
            " )                                                               \n",
            "                                                                 \n",
            " conv_dw_11_bn (BatchNormali  (None, 14, 14, 512)      2048      \n",
            " zation)                                                         \n",
            "                                                                 \n",
            " conv_dw_11_relu (ReLU)      (None, 14, 14, 512)       0         \n",
            "                                                                 \n",
            " conv_pw_11 (Conv2D)         (None, 14, 14, 512)       262144    \n",
            "                                                                 \n",
            " conv_pw_11_bn (BatchNormali  (None, 14, 14, 512)      2048      \n",
            " zation)                                                         \n",
            "                                                                 \n",
            " conv_pw_11_relu (ReLU)      (None, 14, 14, 512)       0         \n",
            "                                                                 \n",
            " conv_pad_12 (ZeroPadding2D)  (None, 15, 15, 512)      0         \n",
            "                                                                 \n",
            " conv_dw_12 (DepthwiseConv2D  (None, 7, 7, 512)        4608      \n",
            " )                                                               \n",
            "                                                                 \n",
            " conv_dw_12_bn (BatchNormali  (None, 7, 7, 512)        2048      \n",
            " zation)                                                         \n",
            "                                                                 \n",
            " conv_dw_12_relu (ReLU)      (None, 7, 7, 512)         0         \n",
            "                                                                 \n",
            " conv_pw_12 (Conv2D)         (None, 7, 7, 1024)        524288    \n",
            "                                                                 \n",
            " conv_pw_12_bn (BatchNormali  (None, 7, 7, 1024)       4096      \n",
            " zation)                                                         \n",
            "                                                                 \n",
            " conv_pw_12_relu (ReLU)      (None, 7, 7, 1024)        0         \n",
            "                                                                 \n",
            " conv_dw_13 (DepthwiseConv2D  (None, 7, 7, 1024)       9216      \n",
            " )                                                               \n",
            "                                                                 \n",
            " conv_dw_13_bn (BatchNormali  (None, 7, 7, 1024)       4096      \n",
            " zation)                                                         \n",
            "                                                                 \n",
            " conv_dw_13_relu (ReLU)      (None, 7, 7, 1024)        0         \n",
            "                                                                 \n",
            " conv_pw_13 (Conv2D)         (None, 7, 7, 1024)        1048576   \n",
            "                                                                 \n",
            " conv_pw_13_bn (BatchNormali  (None, 7, 7, 1024)       4096      \n",
            " zation)                                                         \n",
            "                                                                 \n",
            " conv_pw_13_relu (ReLU)      (None, 7, 7, 1024)        0         \n",
            "                                                                 \n",
            " global_average_pooling2d (G  (None, 1, 1, 1024)       0         \n",
            " lobalAveragePooling2D)                                          \n",
            "                                                                 \n",
            " dropout (Dropout)           (None, 1, 1, 1024)        0         \n",
            "                                                                 \n",
            " conv_preds (Conv2D)         (None, 1, 1, 1000)        1025000   \n",
            "                                                                 \n",
            " reshape_2 (Reshape)         (None, 1000)              0         \n",
            "                                                                 \n",
            " predictions (Activation)    (None, 1000)              0         \n",
            "                                                                 \n",
            " dense (Dense)               (None, 6)                 6006      \n",
            "                                                                 \n",
            "=================================================================\n",
            "Total params: 4,259,870\n",
            "Trainable params: 4,237,982\n",
            "Non-trainable params: 21,888\n",
            "_________________________________________________________________\n"
          ]
        }
      ]
    },
    {
      "cell_type": "code",
      "source": [
        "input = Input(shape=(224,224,1), name='img_input')\n",
        "x = Conv2D(3,(3,3),padding='same')(input) \n",
        "z = model_mobile(x)\n",
        "model_m = Model(inputs= input, outputs= z)\n",
        "model_m.summary()"
      ],
      "metadata": {
        "colab": {
          "base_uri": "https://localhost:8080/"
        },
        "id": "c4REee0n7XOC",
        "outputId": "9ac3bfd9-6275-4bbe-ef89-752d7cd68815"
      },
      "execution_count": null,
      "outputs": [
        {
          "output_type": "stream",
          "name": "stdout",
          "text": [
            "Model: \"model_1\"\n",
            "_________________________________________________________________\n",
            " Layer (type)                Output Shape              Param #   \n",
            "=================================================================\n",
            " img_input (InputLayer)      [(None, 224, 224, 1)]     0         \n",
            "                                                                 \n",
            " conv2d (Conv2D)             (None, 224, 224, 3)       30        \n",
            "                                                                 \n",
            " model (Functional)          (None, 6)                 4259870   \n",
            "                                                                 \n",
            "=================================================================\n",
            "Total params: 4,259,900\n",
            "Trainable params: 4,238,012\n",
            "Non-trainable params: 21,888\n",
            "_________________________________________________________________\n"
          ]
        }
      ]
    },
    {
      "cell_type": "code",
      "source": [
        "model_m.compile(optimizer=optimizers.Adam(),\n",
        "              loss='categorical_crossentropy',\n",
        "              metrics=['accuracy'])"
      ],
      "metadata": {
        "id": "IT0jvizV7a6T"
      },
      "execution_count": null,
      "outputs": []
    },
    {
      "cell_type": "code",
      "source": [
        "history = model_m.fit(x=x_train, y=y_train,validation_data=(x_val,y_val), epochs=100, callbacks=[early_stop, check_pointer, reduce_lr])"
      ],
      "metadata": {
        "colab": {
          "base_uri": "https://localhost:8080/"
        },
        "id": "ojiDDYdZ7fVl",
        "outputId": "92bbf2f8-54a3-42bb-b070-d0b6320b6862"
      },
      "execution_count": null,
      "outputs": [
        {
          "output_type": "stream",
          "name": "stdout",
          "text": [
            "Epoch 1/100\n",
            "563/563 [==============================] - 211s 348ms/step - loss: 1.7156 - accuracy: 0.3056 - val_loss: 1.7390 - val_accuracy: 0.2460 - lr: 0.0010\n",
            "Epoch 2/100\n",
            "563/563 [==============================] - 190s 338ms/step - loss: 1.6333 - accuracy: 0.3358 - val_loss: 1.6997 - val_accuracy: 0.2833 - lr: 0.0010\n",
            "Epoch 3/100\n",
            "563/563 [==============================] - 190s 338ms/step - loss: 1.5706 - accuracy: 0.3574 - val_loss: 1.5382 - val_accuracy: 0.3600 - lr: 0.0010\n",
            "Epoch 4/100\n",
            "563/563 [==============================] - 188s 334ms/step - loss: 1.5364 - accuracy: 0.3641 - val_loss: 1.5645 - val_accuracy: 0.3480 - lr: 0.0010\n",
            "Epoch 5/100\n",
            "563/563 [==============================] - 190s 338ms/step - loss: 1.4970 - accuracy: 0.3748 - val_loss: 1.5035 - val_accuracy: 0.3783 - lr: 0.0010\n",
            "Epoch 6/100\n",
            "563/563 [==============================] - 190s 338ms/step - loss: 1.4507 - accuracy: 0.3964 - val_loss: 1.4668 - val_accuracy: 0.3720 - lr: 0.0010\n",
            "Epoch 7/100\n",
            "563/563 [==============================] - 189s 335ms/step - loss: 1.4181 - accuracy: 0.4013 - val_loss: 1.4887 - val_accuracy: 0.3550 - lr: 0.0010\n",
            "Epoch 8/100\n",
            "563/563 [==============================] - 190s 337ms/step - loss: 1.3867 - accuracy: 0.4162 - val_loss: 1.4285 - val_accuracy: 0.3850 - lr: 0.0010\n",
            "Epoch 9/100\n",
            "563/563 [==============================] - 190s 338ms/step - loss: 1.3730 - accuracy: 0.4208 - val_loss: 1.4018 - val_accuracy: 0.4033 - lr: 0.0010\n",
            "Epoch 10/100\n",
            "563/563 [==============================] - 190s 337ms/step - loss: 1.3551 - accuracy: 0.4253 - val_loss: 1.3785 - val_accuracy: 0.4180 - lr: 0.0010\n",
            "Epoch 11/100\n",
            "563/563 [==============================] - 190s 338ms/step - loss: 1.3311 - accuracy: 0.4417 - val_loss: 1.3632 - val_accuracy: 0.4303 - lr: 0.0010\n",
            "Epoch 12/100\n",
            "563/563 [==============================] - 190s 338ms/step - loss: 1.3029 - accuracy: 0.4486 - val_loss: 1.3412 - val_accuracy: 0.4333 - lr: 0.0010\n",
            "Epoch 13/100\n",
            "563/563 [==============================] - 190s 337ms/step - loss: 1.2759 - accuracy: 0.4639 - val_loss: 1.3252 - val_accuracy: 0.4440 - lr: 0.0010\n",
            "Epoch 14/100\n",
            "563/563 [==============================] - 190s 337ms/step - loss: 1.2314 - accuracy: 0.4780 - val_loss: 1.3000 - val_accuracy: 0.4547 - lr: 0.0010\n",
            "Epoch 15/100\n",
            "563/563 [==============================] - 190s 338ms/step - loss: 1.1892 - accuracy: 0.4997 - val_loss: 1.2946 - val_accuracy: 0.4657 - lr: 0.0010\n",
            "Epoch 16/100\n",
            "563/563 [==============================] - 189s 336ms/step - loss: 1.1409 - accuracy: 0.5261 - val_loss: 1.2955 - val_accuracy: 0.4713 - lr: 0.0010\n",
            "Epoch 17/100\n",
            "563/563 [==============================] - 190s 337ms/step - loss: 1.0829 - accuracy: 0.5546 - val_loss: 1.3050 - val_accuracy: 0.4803 - lr: 0.0010\n",
            "Epoch 18/100\n",
            "563/563 [==============================] - 191s 339ms/step - loss: 1.0237 - accuracy: 0.5791 - val_loss: 1.2610 - val_accuracy: 0.4967 - lr: 0.0010\n",
            "Epoch 19/100\n",
            "563/563 [==============================] - 189s 335ms/step - loss: 0.9675 - accuracy: 0.6077 - val_loss: 1.3119 - val_accuracy: 0.5037 - lr: 0.0010\n",
            "Epoch 20/100\n",
            "563/563 [==============================] - 191s 339ms/step - loss: 0.9105 - accuracy: 0.6338 - val_loss: 1.3355 - val_accuracy: 0.4923 - lr: 0.0010\n",
            "Epoch 21/100\n",
            "563/563 [==============================] - 188s 334ms/step - loss: 0.8565 - accuracy: 0.6593 - val_loss: 1.3184 - val_accuracy: 0.5137 - lr: 0.0010\n",
            "Epoch 22/100\n",
            "563/563 [==============================] - 187s 333ms/step - loss: 0.7990 - accuracy: 0.6896 - val_loss: 1.2910 - val_accuracy: 0.5290 - lr: 0.0010\n",
            "Epoch 23/100\n",
            "563/563 [==============================] - 188s 334ms/step - loss: 0.7378 - accuracy: 0.7221 - val_loss: 1.3364 - val_accuracy: 0.5247 - lr: 0.0010\n",
            "Epoch 24/100\n",
            "563/563 [==============================] - 188s 333ms/step - loss: 0.7000 - accuracy: 0.7463 - val_loss: 1.3548 - val_accuracy: 0.5403 - lr: 0.0010\n",
            "Epoch 25/100\n",
            "563/563 [==============================] - 189s 336ms/step - loss: 0.6429 - accuracy: 0.7764 - val_loss: 1.3749 - val_accuracy: 0.5380 - lr: 0.0010\n",
            "Epoch 26/100\n",
            "563/563 [==============================] - 188s 335ms/step - loss: 0.5932 - accuracy: 0.7989 - val_loss: 1.4327 - val_accuracy: 0.5453 - lr: 0.0010\n",
            "Epoch 27/100\n",
            "563/563 [==============================] - 189s 335ms/step - loss: 0.5442 - accuracy: 0.8212 - val_loss: 1.3659 - val_accuracy: 0.5657 - lr: 0.0010\n",
            "Epoch 28/100\n",
            "563/563 [==============================] - 188s 334ms/step - loss: 0.4985 - accuracy: 0.8413 - val_loss: 1.4689 - val_accuracy: 0.5513 - lr: 0.0010\n",
            "Epoch 29/100\n",
            "563/563 [==============================] - 188s 335ms/step - loss: 0.3857 - accuracy: 0.8944 - val_loss: 1.3939 - val_accuracy: 0.5743 - lr: 1.0000e-04\n",
            "Epoch 30/100\n",
            "563/563 [==============================] - 188s 335ms/step - loss: 0.3358 - accuracy: 0.9154 - val_loss: 1.4218 - val_accuracy: 0.5670 - lr: 1.0000e-04\n",
            "Epoch 31/100\n",
            "563/563 [==============================] - 189s 335ms/step - loss: 0.3091 - accuracy: 0.9264 - val_loss: 1.4305 - val_accuracy: 0.5727 - lr: 1.0000e-04\n",
            "Epoch 32/100\n",
            "563/563 [==============================] - 188s 334ms/step - loss: 0.2894 - accuracy: 0.9341 - val_loss: 1.4648 - val_accuracy: 0.5723 - lr: 1.0000e-04\n",
            "Epoch 33/100\n",
            "563/563 [==============================] - 189s 335ms/step - loss: 0.2721 - accuracy: 0.9418 - val_loss: 1.5011 - val_accuracy: 0.5667 - lr: 1.0000e-04\n",
            "Epoch 34/100\n",
            "563/563 [==============================] - 189s 335ms/step - loss: 0.2579 - accuracy: 0.9464 - val_loss: 1.5235 - val_accuracy: 0.5617 - lr: 1.0000e-04\n",
            "Epoch 35/100\n",
            "563/563 [==============================] - 189s 336ms/step - loss: 0.2464 - accuracy: 0.9503 - val_loss: 1.5454 - val_accuracy: 0.5637 - lr: 1.0000e-04\n",
            "Epoch 36/100\n",
            "563/563 [==============================] - 188s 334ms/step - loss: 0.2365 - accuracy: 0.9533 - val_loss: 1.5477 - val_accuracy: 0.5640 - lr: 1.0000e-04\n",
            "Epoch 37/100\n",
            "563/563 [==============================] - 189s 336ms/step - loss: 0.2273 - accuracy: 0.9559 - val_loss: 1.5873 - val_accuracy: 0.5630 - lr: 1.0000e-04\n",
            "Epoch 38/100\n",
            "563/563 [==============================] - 192s 341ms/step - loss: 0.2224 - accuracy: 0.9572 - val_loss: 1.5941 - val_accuracy: 0.5637 - lr: 1.0000e-04\n"
          ]
        }
      ]
    },
    {
      "cell_type": "markdown",
      "source": [
        "### Final Validation accuracy on MobileNet is 57.43%"
      ],
      "metadata": {
        "id": "PcUleYkS8MRL"
      }
    },
    {
      "cell_type": "markdown",
      "source": [
        "## Loading model and making predictions"
      ],
      "metadata": {
        "id": "yf1guXt4r_bP"
      }
    },
    {
      "cell_type": "code",
      "source": [
        "final_model = load_model('/content/gdrive/MyDrive/check6cmobilenew.h5')"
      ],
      "metadata": {
        "id": "w2q_Md9so-8K"
      },
      "execution_count": null,
      "outputs": []
    },
    {
      "cell_type": "code",
      "source": [
        "y_pred = final_model.predict(x_val)"
      ],
      "metadata": {
        "id": "U7o_2ZiPv4ry"
      },
      "execution_count": null,
      "outputs": []
    },
    {
      "cell_type": "code",
      "source": [
        "# checking the confusion matrix\n",
        "conf_mat = np.zeros((6,6))\n",
        "for i in range(len(y_val)):\n",
        "    conf_mat[np.argmax(y_val[i])][np.argmax(y_pred[i])] += 1 "
      ],
      "metadata": {
        "id": "21elBn6V68Sl"
      },
      "execution_count": null,
      "outputs": []
    },
    {
      "cell_type": "code",
      "source": [
        "print(conf_mat)"
      ],
      "metadata": {
        "colab": {
          "base_uri": "https://localhost:8080/"
        },
        "id": "DOyO-ZIb7mr5",
        "outputId": "de5d1dd8-e37e-40b1-d70f-5623619107af"
      },
      "execution_count": null,
      "outputs": [
        {
          "output_type": "stream",
          "name": "stdout",
          "text": [
            "[[389.  37.  48.   4.  14.   8.]\n",
            " [ 19. 291.  30.  60.  29.  71.]\n",
            " [ 25.  65. 157. 222.  19.  12.]\n",
            " [  9.  75.  60. 316.  17.  23.]\n",
            " [ 28. 103.  38.  29.  75. 227.]\n",
            " [ 17.  93.  29.  41.  58. 262.]]\n"
          ]
        }
      ]
    },
    {
      "cell_type": "code",
      "source": [
        "y_pred_class = [emotion_label_to_text[np.argmax(i)] for i in y_pred ]\n",
        "y_label_class = [emotion_label_to_text[np.argmax(i)] for i in y_val ]"
      ],
      "metadata": {
        "id": "bm88lQ97rFR0"
      },
      "execution_count": null,
      "outputs": []
    },
    {
      "cell_type": "code",
      "source": [
        "xn = np.array(x_val[100], dtype=np.float64) #we need to convert the data type to float64 ans float16 is not supported by plotly\n",
        "pyplot.imshow(xn[:,:,0], cmap = 'gray')\n",
        "print(\"Actual label:\",y_label_class[100],\"\\nPredicted label:\",y_pred_class[100])"
      ],
      "metadata": {
        "id": "YZ_eduDjx0GY",
        "colab": {
          "base_uri": "https://localhost:8080/",
          "height": 304
        },
        "outputId": "49ba5c47-7dc6-40a6-af4a-bd9f4a53127b"
      },
      "execution_count": null,
      "outputs": [
        {
          "output_type": "stream",
          "name": "stdout",
          "text": [
            "Actual label: happy \n",
            "Predicted label: happy\n"
          ]
        },
        {
          "output_type": "display_data",
          "data": {
            "image/png": "[encoded data removed]",
            "text/plain": [
              "<Figure size 432x288 with 1 Axes>"
            ]
          },
          "metadata": {
            "needs_background": "light"
          }
        }
      ]
    },
    {
      "cell_type": "code",
      "source": [
        "xn = np.array(x_val[233], dtype=np.float64)\n",
        "pyplot.imshow(xn[:,:,0], cmap = 'gray')\n",
        "print(\"Actual label:\",y_label_class[233],\"\\nPredicted label:\",y_pred_class[233])"
      ],
      "metadata": {
        "colab": {
          "base_uri": "https://localhost:8080/",
          "height": 304
        },
        "id": "vOFvNReMro9v",
        "outputId": "154bc384-0f96-4acf-c7d2-80bfc5a7b8c1"
      },
      "execution_count": null,
      "outputs": [
        {
          "output_type": "stream",
          "name": "stdout",
          "text": [
            "Actual label: happy \n",
            "Predicted label: happy\n"
          ]
        },
        {
          "output_type": "display_data",
          "data": {
            "image/png": "[encoded data removed]",
            "text/plain": [
              "<Figure size 432x288 with 1 Axes>"
            ]
          },
          "metadata": {
            "needs_background": "light"
          }
        }
      ]
    },
    {
      "cell_type": "code",
      "source": [
        "xn = np.array(x_val[1006], dtype=np.float64)\n",
        "pyplot.imshow(xn[:,:,0], cmap = 'gray')\n",
        "print(\"Actual label:\",y_label_class[1006],\"\\nPredicted label:\",y_pred_class[1006])"
      ],
      "metadata": {
        "colab": {
          "base_uri": "https://localhost:8080/",
          "height": 304
        },
        "id": "E_WfI89Mr0zh",
        "outputId": "6ab49eff-9be6-4f7f-f3b8-b86bb5f0a9b7"
      },
      "execution_count": null,
      "outputs": [
        {
          "output_type": "stream",
          "name": "stdout",
          "text": [
            "Actual label: surprise \n",
            "Predicted label: surprise\n"
          ]
        },
        {
          "output_type": "display_data",
          "data": {
            "image/png": "[encoded data removed]",
            "text/plain": [
              "<Figure size 432x288 with 1 Axes>"
            ]
          },
          "metadata": {
            "needs_background": "light"
          }
        }
      ]
    }
  ],
  "metadata": {
    "colab": {
      "name": "Emotion Recognition.ipynb",
      "provenance": [],
      "collapsed_sections": []
    },
    "kernelspec": {
      "display_name": "Python 3",
      "language": "python",
      "name": "python3"
    },
    "language_info": {
      "codemirror_mode": {
        "name": "ipython",
        "version": 3
      },
      "file_extension": ".py",
      "mimetype": "text/x-python",
      "name": "python",
      "nbconvert_exporter": "python",
      "pygments_lexer": "ipython3",
      "version": "3.6.4"
    },
    "accelerator": "GPU"
  },
  "nbformat": 4,
  "nbformat_minor": 0
}